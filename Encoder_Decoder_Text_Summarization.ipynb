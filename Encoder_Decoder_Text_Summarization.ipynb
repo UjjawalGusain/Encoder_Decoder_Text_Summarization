{
  "nbformat": 4,
  "nbformat_minor": 0,
  "metadata": {
    "colab": {
      "provenance": [],
      "gpuType": "T4"
    },
    "kernelspec": {
      "name": "python3",
      "display_name": "Python 3"
    },
    "language_info": {
      "name": "python"
    },
    "accelerator": "GPU"
  },
  "cells": [
    {
      "cell_type": "code",
      "source": [
        "!mkdir ~/.kaggle\n",
        "!cp kaggle.json ~/.kaggle/\n",
        "!chmod 600 ~/.kaggle/kaggle.json\n",
        "!kaggle datasets download gowrishankarp/newspaper-text-summarization-cnn-dailymail"
      ],
      "metadata": {
        "colab": {
          "base_uri": "https://localhost:8080/"
        },
        "id": "S7HwDIT8izRV",
        "outputId": "9dc556b1-3587-4a95-ab39-925907cef3ed"
      },
      "execution_count": null,
      "outputs": [
        {
          "output_type": "stream",
          "name": "stdout",
          "text": [
            "Dataset URL: https://www.kaggle.com/datasets/gowrishankarp/newspaper-text-summarization-cnn-dailymail\n",
            "License(s): CC0-1.0\n",
            "Downloading newspaper-text-summarization-cnn-dailymail.zip to /content\n",
            " 98% 495M/503M [00:05<00:00, 125MB/s]\n",
            "100% 503M/503M [00:05<00:00, 99.6MB/s]\n"
          ]
        }
      ]
    },
    {
      "cell_type": "code",
      "source": [
        "!unzip /content/newspaper-text-summarization-cnn-dailymail.zip"
      ],
      "metadata": {
        "colab": {
          "base_uri": "https://localhost:8080/"
        },
        "id": "jS5IVk5cjRap",
        "outputId": "eba96863-5130-4ae8-860d-257838521f71"
      },
      "execution_count": null,
      "outputs": [
        {
          "output_type": "stream",
          "name": "stdout",
          "text": [
            "Archive:  /content/newspaper-text-summarization-cnn-dailymail.zip\n",
            "  inflating: cnn_dailymail/test.csv  \n",
            "  inflating: cnn_dailymail/train.csv  \n",
            "  inflating: cnn_dailymail/validation.csv  \n"
          ]
        }
      ]
    },
    {
      "cell_type": "code",
      "source": [
        "import pandas as pd\n",
        "import numpy as np\n",
        "\n",
        "df = pd.read_csv('/content/cnn_dailymail/train.csv', nrows=5000)\n",
        "df = df.drop('id', axis=1)\n",
        "df.head()"
      ],
      "metadata": {
        "colab": {
          "base_uri": "https://localhost:8080/",
          "height": 206
        },
        "id": "eihqMyvCjUWW",
        "outputId": "10eba70b-26ef-4e7c-a6f6-33e4fa21f14a"
      },
      "execution_count": null,
      "outputs": [
        {
          "output_type": "execute_result",
          "data": {
            "text/plain": [
              "                                             article  \\\n",
              "0  By . Associated Press . PUBLISHED: . 14:11 EST...   \n",
              "1  (CNN) -- Ralph Mata was an internal affairs li...   \n",
              "2  A drunk driver who killed a young woman in a h...   \n",
              "3  (CNN) -- With a breezy sweep of his pen Presid...   \n",
              "4  Fleetwood are the only team still to have a 10...   \n",
              "\n",
              "                                          highlights  \n",
              "0  Bishop John Folda, of North Dakota, is taking ...  \n",
              "1  Criminal complaint: Cop used his role to help ...  \n",
              "2  Craig Eccleston-Todd, 27, had drunk at least t...  \n",
              "3  Nina dos Santos says Europe must be ready to a...  \n",
              "4  Fleetwood top of League One after 2-0 win at S...  "
            ],
            "text/html": [
              "\n",
              "  <div id=\"df-19faaa6a-a733-4495-9daa-852d2003d2b1\" class=\"colab-df-container\">\n",
              "    <div>\n",
              "<style scoped>\n",
              "    .dataframe tbody tr th:only-of-type {\n",
              "        vertical-align: middle;\n",
              "    }\n",
              "\n",
              "    .dataframe tbody tr th {\n",
              "        vertical-align: top;\n",
              "    }\n",
              "\n",
              "    .dataframe thead th {\n",
              "        text-align: right;\n",
              "    }\n",
              "</style>\n",
              "<table border=\"1\" class=\"dataframe\">\n",
              "  <thead>\n",
              "    <tr style=\"text-align: right;\">\n",
              "      <th></th>\n",
              "      <th>article</th>\n",
              "      <th>highlights</th>\n",
              "    </tr>\n",
              "  </thead>\n",
              "  <tbody>\n",
              "    <tr>\n",
              "      <th>0</th>\n",
              "      <td>By . Associated Press . PUBLISHED: . 14:11 EST...</td>\n",
              "      <td>Bishop John Folda, of North Dakota, is taking ...</td>\n",
              "    </tr>\n",
              "    <tr>\n",
              "      <th>1</th>\n",
              "      <td>(CNN) -- Ralph Mata was an internal affairs li...</td>\n",
              "      <td>Criminal complaint: Cop used his role to help ...</td>\n",
              "    </tr>\n",
              "    <tr>\n",
              "      <th>2</th>\n",
              "      <td>A drunk driver who killed a young woman in a h...</td>\n",
              "      <td>Craig Eccleston-Todd, 27, had drunk at least t...</td>\n",
              "    </tr>\n",
              "    <tr>\n",
              "      <th>3</th>\n",
              "      <td>(CNN) -- With a breezy sweep of his pen Presid...</td>\n",
              "      <td>Nina dos Santos says Europe must be ready to a...</td>\n",
              "    </tr>\n",
              "    <tr>\n",
              "      <th>4</th>\n",
              "      <td>Fleetwood are the only team still to have a 10...</td>\n",
              "      <td>Fleetwood top of League One after 2-0 win at S...</td>\n",
              "    </tr>\n",
              "  </tbody>\n",
              "</table>\n",
              "</div>\n",
              "    <div class=\"colab-df-buttons\">\n",
              "\n",
              "  <div class=\"colab-df-container\">\n",
              "    <button class=\"colab-df-convert\" onclick=\"convertToInteractive('df-19faaa6a-a733-4495-9daa-852d2003d2b1')\"\n",
              "            title=\"Convert this dataframe to an interactive table.\"\n",
              "            style=\"display:none;\">\n",
              "\n",
              "  <svg xmlns=\"http://www.w3.org/2000/svg\" height=\"24px\" viewBox=\"0 -960 960 960\">\n",
              "    <path d=\"M120-120v-720h720v720H120Zm60-500h600v-160H180v160Zm220 220h160v-160H400v160Zm0 220h160v-160H400v160ZM180-400h160v-160H180v160Zm440 0h160v-160H620v160ZM180-180h160v-160H180v160Zm440 0h160v-160H620v160Z\"/>\n",
              "  </svg>\n",
              "    </button>\n",
              "\n",
              "  <style>\n",
              "    .colab-df-container {\n",
              "      display:flex;\n",
              "      gap: 12px;\n",
              "    }\n",
              "\n",
              "    .colab-df-convert {\n",
              "      background-color: #E8F0FE;\n",
              "      border: none;\n",
              "      border-radius: 50%;\n",
              "      cursor: pointer;\n",
              "      display: none;\n",
              "      fill: #1967D2;\n",
              "      height: 32px;\n",
              "      padding: 0 0 0 0;\n",
              "      width: 32px;\n",
              "    }\n",
              "\n",
              "    .colab-df-convert:hover {\n",
              "      background-color: #E2EBFA;\n",
              "      box-shadow: 0px 1px 2px rgba(60, 64, 67, 0.3), 0px 1px 3px 1px rgba(60, 64, 67, 0.15);\n",
              "      fill: #174EA6;\n",
              "    }\n",
              "\n",
              "    .colab-df-buttons div {\n",
              "      margin-bottom: 4px;\n",
              "    }\n",
              "\n",
              "    [theme=dark] .colab-df-convert {\n",
              "      background-color: #3B4455;\n",
              "      fill: #D2E3FC;\n",
              "    }\n",
              "\n",
              "    [theme=dark] .colab-df-convert:hover {\n",
              "      background-color: #434B5C;\n",
              "      box-shadow: 0px 1px 3px 1px rgba(0, 0, 0, 0.15);\n",
              "      filter: drop-shadow(0px 1px 2px rgba(0, 0, 0, 0.3));\n",
              "      fill: #FFFFFF;\n",
              "    }\n",
              "  </style>\n",
              "\n",
              "    <script>\n",
              "      const buttonEl =\n",
              "        document.querySelector('#df-19faaa6a-a733-4495-9daa-852d2003d2b1 button.colab-df-convert');\n",
              "      buttonEl.style.display =\n",
              "        google.colab.kernel.accessAllowed ? 'block' : 'none';\n",
              "\n",
              "      async function convertToInteractive(key) {\n",
              "        const element = document.querySelector('#df-19faaa6a-a733-4495-9daa-852d2003d2b1');\n",
              "        const dataTable =\n",
              "          await google.colab.kernel.invokeFunction('convertToInteractive',\n",
              "                                                    [key], {});\n",
              "        if (!dataTable) return;\n",
              "\n",
              "        const docLinkHtml = 'Like what you see? Visit the ' +\n",
              "          '<a target=\"_blank\" href=https://colab.research.google.com/notebooks/data_table.ipynb>data table notebook</a>'\n",
              "          + ' to learn more about interactive tables.';\n",
              "        element.innerHTML = '';\n",
              "        dataTable['output_type'] = 'display_data';\n",
              "        await google.colab.output.renderOutput(dataTable, element);\n",
              "        const docLink = document.createElement('div');\n",
              "        docLink.innerHTML = docLinkHtml;\n",
              "        element.appendChild(docLink);\n",
              "      }\n",
              "    </script>\n",
              "  </div>\n",
              "\n",
              "\n",
              "<div id=\"df-a277550a-2a3d-4022-a96a-5e33e09ee21b\">\n",
              "  <button class=\"colab-df-quickchart\" onclick=\"quickchart('df-a277550a-2a3d-4022-a96a-5e33e09ee21b')\"\n",
              "            title=\"Suggest charts\"\n",
              "            style=\"display:none;\">\n",
              "\n",
              "<svg xmlns=\"http://www.w3.org/2000/svg\" height=\"24px\"viewBox=\"0 0 24 24\"\n",
              "     width=\"24px\">\n",
              "    <g>\n",
              "        <path d=\"M19 3H5c-1.1 0-2 .9-2 2v14c0 1.1.9 2 2 2h14c1.1 0 2-.9 2-2V5c0-1.1-.9-2-2-2zM9 17H7v-7h2v7zm4 0h-2V7h2v10zm4 0h-2v-4h2v4z\"/>\n",
              "    </g>\n",
              "</svg>\n",
              "  </button>\n",
              "\n",
              "<style>\n",
              "  .colab-df-quickchart {\n",
              "      --bg-color: #E8F0FE;\n",
              "      --fill-color: #1967D2;\n",
              "      --hover-bg-color: #E2EBFA;\n",
              "      --hover-fill-color: #174EA6;\n",
              "      --disabled-fill-color: #AAA;\n",
              "      --disabled-bg-color: #DDD;\n",
              "  }\n",
              "\n",
              "  [theme=dark] .colab-df-quickchart {\n",
              "      --bg-color: #3B4455;\n",
              "      --fill-color: #D2E3FC;\n",
              "      --hover-bg-color: #434B5C;\n",
              "      --hover-fill-color: #FFFFFF;\n",
              "      --disabled-bg-color: #3B4455;\n",
              "      --disabled-fill-color: #666;\n",
              "  }\n",
              "\n",
              "  .colab-df-quickchart {\n",
              "    background-color: var(--bg-color);\n",
              "    border: none;\n",
              "    border-radius: 50%;\n",
              "    cursor: pointer;\n",
              "    display: none;\n",
              "    fill: var(--fill-color);\n",
              "    height: 32px;\n",
              "    padding: 0;\n",
              "    width: 32px;\n",
              "  }\n",
              "\n",
              "  .colab-df-quickchart:hover {\n",
              "    background-color: var(--hover-bg-color);\n",
              "    box-shadow: 0 1px 2px rgba(60, 64, 67, 0.3), 0 1px 3px 1px rgba(60, 64, 67, 0.15);\n",
              "    fill: var(--button-hover-fill-color);\n",
              "  }\n",
              "\n",
              "  .colab-df-quickchart-complete:disabled,\n",
              "  .colab-df-quickchart-complete:disabled:hover {\n",
              "    background-color: var(--disabled-bg-color);\n",
              "    fill: var(--disabled-fill-color);\n",
              "    box-shadow: none;\n",
              "  }\n",
              "\n",
              "  .colab-df-spinner {\n",
              "    border: 2px solid var(--fill-color);\n",
              "    border-color: transparent;\n",
              "    border-bottom-color: var(--fill-color);\n",
              "    animation:\n",
              "      spin 1s steps(1) infinite;\n",
              "  }\n",
              "\n",
              "  @keyframes spin {\n",
              "    0% {\n",
              "      border-color: transparent;\n",
              "      border-bottom-color: var(--fill-color);\n",
              "      border-left-color: var(--fill-color);\n",
              "    }\n",
              "    20% {\n",
              "      border-color: transparent;\n",
              "      border-left-color: var(--fill-color);\n",
              "      border-top-color: var(--fill-color);\n",
              "    }\n",
              "    30% {\n",
              "      border-color: transparent;\n",
              "      border-left-color: var(--fill-color);\n",
              "      border-top-color: var(--fill-color);\n",
              "      border-right-color: var(--fill-color);\n",
              "    }\n",
              "    40% {\n",
              "      border-color: transparent;\n",
              "      border-right-color: var(--fill-color);\n",
              "      border-top-color: var(--fill-color);\n",
              "    }\n",
              "    60% {\n",
              "      border-color: transparent;\n",
              "      border-right-color: var(--fill-color);\n",
              "    }\n",
              "    80% {\n",
              "      border-color: transparent;\n",
              "      border-right-color: var(--fill-color);\n",
              "      border-bottom-color: var(--fill-color);\n",
              "    }\n",
              "    90% {\n",
              "      border-color: transparent;\n",
              "      border-bottom-color: var(--fill-color);\n",
              "    }\n",
              "  }\n",
              "</style>\n",
              "\n",
              "  <script>\n",
              "    async function quickchart(key) {\n",
              "      const quickchartButtonEl =\n",
              "        document.querySelector('#' + key + ' button');\n",
              "      quickchartButtonEl.disabled = true;  // To prevent multiple clicks.\n",
              "      quickchartButtonEl.classList.add('colab-df-spinner');\n",
              "      try {\n",
              "        const charts = await google.colab.kernel.invokeFunction(\n",
              "            'suggestCharts', [key], {});\n",
              "      } catch (error) {\n",
              "        console.error('Error during call to suggestCharts:', error);\n",
              "      }\n",
              "      quickchartButtonEl.classList.remove('colab-df-spinner');\n",
              "      quickchartButtonEl.classList.add('colab-df-quickchart-complete');\n",
              "    }\n",
              "    (() => {\n",
              "      let quickchartButtonEl =\n",
              "        document.querySelector('#df-a277550a-2a3d-4022-a96a-5e33e09ee21b button');\n",
              "      quickchartButtonEl.style.display =\n",
              "        google.colab.kernel.accessAllowed ? 'block' : 'none';\n",
              "    })();\n",
              "  </script>\n",
              "</div>\n",
              "\n",
              "    </div>\n",
              "  </div>\n"
            ],
            "application/vnd.google.colaboratory.intrinsic+json": {
              "type": "dataframe",
              "variable_name": "df",
              "summary": "{\n  \"name\": \"df\",\n  \"rows\": 5000,\n  \"fields\": [\n    {\n      \"column\": \"article\",\n      \"properties\": {\n        \"dtype\": \"string\",\n        \"num_unique_values\": 5000,\n        \"samples\": [\n          \"(CNN) -- The space shuttle program should have come to an end a long time ago, NASA administrator Charles Bolden told CNN in an exclusive interview Wednesday. The 30-year program has been kept on life support because the United States has not readied another vehicle to take its place. \\\"What is not acceptable is the fact that the most powerful nation in the world, the United States of America, finds itself in a situation that we didn't do the proper planning to have a vehicle in place to replace shuttle when it lands its last landing,\\\" Bolden said. NASA originally planned to retire the aging shuttle fleet last September, but mission delays have pushed that date. But once Endeavour, Atlantis and Discovery are permanently grounded, Russia's aging Soyuz capsules will ferry astronauts and cosmonauts to the space station and bring what supplies can fit in the smaller craft. And that will have to do, perhaps throughout this decade, until commercial cargo spacecraft are available. The last shuttle landing, according to the administrator, will not be in April when Endeavour is scheduled to fly. NASA says it wants one more mission to resupply the space station. That flight would be STS-135 this summer, using the Atlantis orbiter and designated with the acronym that stands for \\\"Space Transportation System.\\\" But whether NASA will have the money for the flight -- about a half a billion dollars -- is in question. \\\"We are budgeted for 135 and unless something disastrous happens, it's our intent to fly it,\\\" said Bolden, \\\"It's in the authorization bill signed by the president back in November, so for me it's the law and I'm excited about it because I need it, so we plan to fly 135.\\\" That would leave three flights before the program ends. STS-133 using Discovery sits on the launch pad ready to make its last trip into space Thursday. In April, STS-134 with Endeavour is schedule to fly. Commanding that mission is astronaut Mark Kelly. Kelly's wife, U.S. Rep. Gabrielle Giffords, was among 19 people shot in Arizona during a political event. Giffords is going through rehabilitation in Houston as she recovers from a gunshot wound to the head. During a news conference, Kelly said his wife would attend his launch. \\\"I pray that he is absolutely correct,\\\" Bolden said, \\\"because for all in the NASA family, who have been praying with him ever since that Saturday, and all of us who love her and him, It would be just tremendous, it would be tremendous for the nation. It would give everybody a big boost.\\\" But with those launches, the nation is seeing an end to its only means of putting humans in space. It is also seeing an end to a program that caught the public's attention nearly 30 years ago, with the launch on April 12, 1981, of the shuttle Columbia on the program's first mission. Bolden hopes that at least two commercial space companies will emerge to transport astronauts to the International Space Station. This will allow NASA to concentrate on building a new heavy-lift rocket capable of leaving lower Earth orbit. There had been concern whether the space agency would have enough money to develop this vehicle. Bolden said the money is there to build a vehicle that will evolve over time. \\\"When I say we are not going to do things the way we used to, we're not building the world's heaviest, biggest rocket right out of the chute. It's going to take us ... a decade or so to get to the point that we have the final vehicle that is going to take the first humans to Mars,\\\" said Bolden. The White House has said it wants humans on Mars by the mid-2030s. Right now, Bolden says his priority is flying these last three shuttle missions and bringing the astronauts home safely.\",\n          \"(CNN) -- Erroll Southers In the aftermath of the attempted bombing of Northwest Flight 253, it is likely the Senate will move to confirm the embattled nomination of Southers as head of the Transportation Security Administration when it returns from its winter recess. Objections to Southers' confirmation were first made by Republican Sen. Jim DeMint of South Carolina over the potential unionization of TSA employees. Southers is the Los Angeles International Airport's assistant chief for homeland security and intelligence. The airport's police department, which Southers has helped manage since early 2007, is the largest such operation in the country, with approximately 1,200 employees. Southers is also associate director at the Center for Risk and Economic Analysis of Terrorism Events at the University of Southern California. The former FBI special agent served as a deputy director of homeland security for California Gov. Arnold Schwarzenegger. CNN Political Ticker: DeMint defends blocking appointment . Miriam Siefer The attorney who will defend the 23-year-old Nigerian man accused of trying to blow up Northwest Flight 253 is no stranger to terrorism cases, according to The Detroit News. Miriam Siefer, chief federal defender with the Federal Defender Office in Detroit, Michigan, represented James Nichols when he was a suspect in the Oklahoma City bombing. His brother Terry Nichols was convicted for that act of domestic terrorism. Siefer is now the lead attorney for Umar Farouk AbdulMutallab, who is accused of hiding explosive materials sewn into his underwear that could have brought down the airplane. \\\"She's one of a handful of people who is universally respected and admired by people in the U.S. Attorney's Office,\\\" said Alan Gershel, the former head of criminal prosecutions in Detroit who now is a law professor at Cooley Law School in Auburn Hills, Michigan. Detroit News: Suspect's lawyer old hand at terror cases . Micah Fialka-Feldman A U.S. district judge has ruled that Oakland University in Rochester, Michigan, violated a federal law by refusing to allow Fialka-Feldman, a disabled student, to live in a campus dorm and now must make a room available for him. The Detroit News and NPR report that Fialka-Feldman has a mild cognitive impairment that hinders his ability to read and write. But the university said because he was in a special program and not a full-time student, he couldn't live on campus. It took him two buses and two hours to get to campus from his parents' home. The judge ruled that Oakland University had discriminated against Fialka-Feldman, who says he will hang a poster in his room with quotes from civil rights leaders. One says: \\\"A community that excludes one member is not a community at all.\\\" NPR: Intellectually disabled student wins dorm suit . Detroit News: Student wins housing fight . William Koch The Palm Beach, Florida, billionaire says that a 1787 Lafite Bordeaux with Thomas Jefferson's initials etched into the bottle is fake. \\\"I thought that I had a piece of history, a piece of America's most important history,\\\" Koch told the Los Angeles Times. So Koch sued the seller and has filed four other lawsuits. He says there are more to come. His goal is to clean up an industry where a single bottle can go for more than $100,000. In 1989, Koch purchased the Lafite and three other bottles of Bordeaux, also purported to be Jefferson's, for about $500,000. In the federal lawsuit he filed in New York against the wine supplier, Koch claims Jefferson's \\\"initials\\\" were etched into the bottle with modern-day power tools. Los Angeles Times: Wine collector sues over alleged fakery . Michael Landers This 15-year-old 10th-grader from Old Westbury, New York, is the youngest player to win the men's national singles championship in table tennis, or pingpong. In a New York Times profile, Landers says his training can last 30 hours each week. For 14 months, Goran Milanovic, a former Serbian discuss thrower, has been putting him through 90-minute workouts two or three times a week. NY Times: The ping-pong prodigy . What makes a person intriguing? There are people who enter the news cycle every day because their actions or decisions are new, important or different. Others are in the news because they are the ones those decisions affect. And there are a number of people who are so famous or controversial that anything they say or do becomes news. Some of these people do what we expect of them: They run for office, pass legislation, start a business, get hired or fired, commit a crime, make an arrest, get in accidents, hit a home run, overthrow a government, fight wars, sue an opponent, put out fires, prepare for hurricanes and cavort with people other than their spouses. They do make news, but the action is usually more important than who is involved in the story. But every day, there are a number of people who become fascinating to us -- by virtue of their character, how they reached their decision, how they behaved under pressure or because of the remarkable circumstances surrounding the event they are involved in. They arouse our curiosity. We hear about them and want to know more. What they have done or said stimulates conversations across the country. At times, there is even a mystery about them. What they have done may be unique, heroic, cowardly or ghastly, but they capture our imaginations. We want to know what makes them tick, why they believe what they do, and why they did what they did. They intrigue us.\",\n          \"Jose Mourinho, Lionel Messi and Ronaldinho are the star names confirmed for Deco's testimonial in July. The match in honour of the former Portuguese international will feature two of his teams, Porto's Class of '04 and Barcelona's Class of '06. Mourinho, currently in charge of Chelsea, will manage his Champions League-winning hosts at the Dragao Stadium. VIDEO Scroll to the bottom to watch some of Jose's funniest moment from the season . Remember me? Jose Mourinho will take charge of Porto for Deco's testimonial in July . Superstars: Lionel Messi and Ronaldinho will reunite for Barcelona's Class of '06, coached by Frank Rijkaard . Calls time: Deco called time on his glittering career earlier this year . After kick-starting a generation at the Catalan club, Dutch coach Frank Rijkaard will take charge of fellow European winners in 2006 Barca in the one-off game. Lionel Messi, Ronaldinho, Samuel Eto'o and Henrik Larsson will be on show according to Portuguese publication O Jogo, while Xavi and Andres Iniesta's participation depends on their fitness after the World Cup. Messi made his debut in a Barcelona shirt at the Dragao Stadium, and the match will give him a chance to link up with his idol once again. A teenage Argentine eventually oversaw Ronaldinho's departure to AC Milan with his sparkling displays, but owes a lot to the former No 10. 'Ronaldinho made everything much easier for me,' Messi told Barcelona's club website last year. 'He was also responsible for the change in Bar\\u00e7a. It was a bad time and the change that came about with his arrival was amazing. 'In the first year, he didn\\u2019t win anything but people fell in love with him. Then the trophies started coming and he made all those people happy. Bar\\u00e7a should always be grateful for everything he did.' European success: Barcelona won the Champions League in 2006, while Porto won in 2004 . Idol: Ronaldinho helped Messi settle upon his arrival in Spain as a teenager . Deco retired earlier this year after a glittering career. The Brazilian-born playmaker made his name at Porto, starring in that European success in 2004, then moving on to Barcelona. A switch to Chelsea saw him experience the Premier League, and he finished his career back at Fluminense in Brazil. Ricardo Carvaloho and Paolo Ferreira will star for Porto, and the game is set to take place on July 25 at 7.45pm. Playmaker: Deco made his name at Porto, and his testimonial will be on July 25 .\"\n        ],\n        \"semantic_type\": \"\",\n        \"description\": \"\"\n      }\n    },\n    {\n      \"column\": \"highlights\",\n      \"properties\": {\n        \"dtype\": \"string\",\n        \"num_unique_values\": 4995,\n        \"samples\": [\n          \"Hammond\\u00a0warns against complacency in the fight to disrupt terror plots .\\nForeign ministers from across the globe fly into London for talks .\\nThey will discuss plan to take on jihadis and prevent Paris-style attacks .\\nDavid Cameron promises the UK will do 'everything we can' to help Iraq .\",\n          \"Sheikh Ahmed bin Zayed Al Nahyan missing since plane crashed into lake in Morocco .\\nSheikh was managing director of the Dhabi Investment Authority .\\nHe also was a brother of the ruler of Abu Dhabi and Forbes' 27th richest person in world .\",\n          \"Online banking, microwaving and connecting to WiFi among most 'essential' skills .\\nKnitting, baking bread and writing letters no longer considered important .\\n2,000 adults polled in survey which listed knowing how to use Google as most needed skill .\"\n        ],\n        \"semantic_type\": \"\",\n        \"description\": \"\"\n      }\n    }\n  ]\n}"
            }
          },
          "metadata": {},
          "execution_count": 159
        }
      ]
    },
    {
      "cell_type": "code",
      "source": [],
      "metadata": {
        "id": "ITihe0TaAF9N"
      },
      "execution_count": null,
      "outputs": []
    },
    {
      "cell_type": "code",
      "source": [
        "import pandas as pd\n",
        "\n",
        "# Diverse data\n",
        "data = [\n",
        "    {\"article\": \"Space exploration has led to advancements in satellite technology, enabling better communication, weather forecasting, and global navigation systems. NASA and SpaceX continue to innovate in this field, focusing on missions to the Moon and Mars.\",\n",
        "     \"highlights\": \"Space exploration drives advancements in communication and navigation.\"},\n",
        "\n",
        "    {\"article\": \"The history of art spans centuries, from cave paintings to modern digital installations. Art reflects cultural, political, and social changes, serving as both documentation and a medium of expression.\",\n",
        "     \"highlights\": \"Art documents and expresses cultural, political, and social changes.\"},\n",
        "\n",
        "    {\"article\": \"Renewable energy sources such as wind, solar, and hydropower are essential for combating climate change. Governments worldwide are increasing investments in green energy projects to reduce carbon emissions.\",\n",
        "     \"highlights\": \"Renewable energy reduces carbon emissions and combats climate change.\"},\n",
        "\n",
        "    {\"article\": \"The culinary arts have evolved to include molecular gastronomy, where chefs use scientific techniques to create innovative dishes. This trend combines chemistry, physics, and artistry.\",\n",
        "     \"highlights\": \"Molecular gastronomy blends science and art to create unique dishes.\"},\n",
        "\n",
        "    {\"article\": \"The history of mathematics includes breakthroughs like calculus, developed independently by Newton and Leibniz. Mathematics underpins advances in science, engineering, and technology.\",\n",
        "     \"highlights\": \"Mathematics supports advancements in science, engineering, and technology.\"},\n",
        "\n",
        "    {\"article\": \"Esports is a growing industry where professional gamers compete in tournaments for games like League of Legends and Dota 2. It attracts millions of viewers globally, rivaling traditional sports in popularity.\",\n",
        "     \"highlights\": \"Esports competes with traditional sports in global popularity.\"},\n",
        "\n",
        "    {\"article\": \"Archaeology is the study of human history through the excavation of sites and analysis of artifacts. Discoveries such as the Rosetta Stone have been crucial in understanding ancient civilizations.\",\n",
        "     \"highlights\": \"Archaeology uses artifacts to uncover human history and ancient civilizations.\"},\n",
        "\n",
        "    {\"article\": \"The fashion industry is increasingly adopting sustainable practices, such as using recycled materials and reducing waste. Ethical fashion aims to minimize environmental impact while ensuring fair labor practices.\",\n",
        "     \"highlights\": \"Sustainable fashion minimizes environmental impact and promotes ethics.\"},\n",
        "\n",
        "    {\"article\": \"Philosophy explores fundamental questions about existence, knowledge, and morality. Thinkers like Socrates and Kant have shaped our understanding of ethics, logic, and the nature of reality.\",\n",
        "     \"highlights\": \"Philosophy addresses questions about existence, knowledge, and morality.\"},\n",
        "\n",
        "    {\"article\": \"Urban planning involves designing cities to optimize resources and improve quality of life. Modern urban planners focus on sustainable development and reducing urban sprawl.\",\n",
        "     \"highlights\": \"Urban planning enhances resource optimization and sustainable development.\"},\n",
        "\n",
        "    {\"article\": \"Cryptography ensures secure communication in the digital age. Techniques like encryption are vital for protecting sensitive information, such as online banking and personal data.\",\n",
        "     \"highlights\": \"Cryptography secures communication and protects sensitive information.\"},\n",
        "\n",
        "    {\"article\": \"Marine biology studies ocean ecosystems and the diverse species they support. Research in this field helps protect marine biodiversity and address issues like coral bleaching.\",\n",
        "     \"highlights\": \"Marine biology protects ocean biodiversity and studies ecosystems.\"},\n",
        "\n",
        "    {\"article\": \"Mindfulness meditation involves focusing on the present moment to reduce stress and improve mental well-being. It has become a popular practice in both personal and professional settings.\",\n",
        "     \"highlights\": \"Mindfulness meditation reduces stress and enhances mental well-being.\"},\n",
        "\n",
        "    {\"article\": \"Human-animal interaction research explores the psychological benefits of pet ownership, including reduced anxiety and increased social connection. Therapy animals are often used in mental health treatments.\",\n",
        "     \"highlights\": \"Human-animal interaction reduces anxiety and enhances social bonds.\"},\n",
        "\n",
        "    {\"article\": \"Digital marketing leverages platforms like social media and email to reach consumers. Strategies include SEO, content marketing, and influencer partnerships to drive engagement.\",\n",
        "     \"highlights\": \"Digital marketing uses social platforms to engage consumers and boost sales.\"},\n",
        "\n",
        "    {\"article\": \"The study of linguistics examines language structure, history, and usage. Linguists analyze phonetics, grammar, and semantics to understand how languages evolve and function.\",\n",
        "     \"highlights\": \"Linguistics explores language structure and evolution through analysis.\"},\n",
        "\n",
        "    {\"article\": \"Bioinformatics combines biology, computer science, and statistics to analyze biological data. It plays a crucial role in fields like genomics and drug discovery.\",\n",
        "     \"highlights\": \"Bioinformatics analyzes biological data for genomics and drug discovery.\"},\n",
        "\n",
        "    {\"article\": \"Astronomy is the study of celestial objects and phenomena. It encompasses areas like planetary science, stellar evolution, and cosmology, advancing our understanding of the universe.\",\n",
        "     \"highlights\": \"Astronomy studies celestial objects and expands our knowledge of the universe.\"},\n",
        "\n",
        "    {\"article\": \"Psychology examines human behavior and mental processes. Fields such as cognitive psychology and behavioral therapy aim to understand and improve mental health.\",\n",
        "     \"highlights\": \"Psychology studies human behavior and mental processes for better health.\"},\n",
        "\n",
        "    {\"article\": \"Geography explores Earth's physical features and human activities. Geographic information systems (GIS) are tools used to analyze spatial data for urban development and disaster management.\",\n",
        "     \"highlights\": \"Geography uses GIS to analyze spatial data for urban and disaster planning.\"},\n",
        "]\n",
        "\n",
        "# Create DataFrame\n",
        "df = pd.DataFrame(data)\n",
        "\n",
        "# Display DataFrame\n",
        "df.head()"
      ],
      "metadata": {
        "colab": {
          "base_uri": "https://localhost:8080/",
          "height": 206
        },
        "id": "Q9K-nWKRvmRN",
        "outputId": "e46152f6-45d9-4816-c089-19ab160fe2cc"
      },
      "execution_count": null,
      "outputs": [
        {
          "output_type": "execute_result",
          "data": {
            "text/plain": [
              "                                             article  \\\n",
              "0  Space exploration has led to advancements in s...   \n",
              "1  The history of art spans centuries, from cave ...   \n",
              "2  Renewable energy sources such as wind, solar, ...   \n",
              "3  The culinary arts have evolved to include mole...   \n",
              "4  The history of mathematics includes breakthrou...   \n",
              "\n",
              "                                          highlights  \n",
              "0  Space exploration drives advancements in commu...  \n",
              "1  Art documents and expresses cultural, politica...  \n",
              "2  Renewable energy reduces carbon emissions and ...  \n",
              "3  Molecular gastronomy blends science and art to...  \n",
              "4  Mathematics supports advancements in science, ...  "
            ],
            "text/html": [
              "\n",
              "  <div id=\"df-28e8fd1e-77ef-4744-babf-e23b93fd9866\" class=\"colab-df-container\">\n",
              "    <div>\n",
              "<style scoped>\n",
              "    .dataframe tbody tr th:only-of-type {\n",
              "        vertical-align: middle;\n",
              "    }\n",
              "\n",
              "    .dataframe tbody tr th {\n",
              "        vertical-align: top;\n",
              "    }\n",
              "\n",
              "    .dataframe thead th {\n",
              "        text-align: right;\n",
              "    }\n",
              "</style>\n",
              "<table border=\"1\" class=\"dataframe\">\n",
              "  <thead>\n",
              "    <tr style=\"text-align: right;\">\n",
              "      <th></th>\n",
              "      <th>article</th>\n",
              "      <th>highlights</th>\n",
              "    </tr>\n",
              "  </thead>\n",
              "  <tbody>\n",
              "    <tr>\n",
              "      <th>0</th>\n",
              "      <td>Space exploration has led to advancements in s...</td>\n",
              "      <td>Space exploration drives advancements in commu...</td>\n",
              "    </tr>\n",
              "    <tr>\n",
              "      <th>1</th>\n",
              "      <td>The history of art spans centuries, from cave ...</td>\n",
              "      <td>Art documents and expresses cultural, politica...</td>\n",
              "    </tr>\n",
              "    <tr>\n",
              "      <th>2</th>\n",
              "      <td>Renewable energy sources such as wind, solar, ...</td>\n",
              "      <td>Renewable energy reduces carbon emissions and ...</td>\n",
              "    </tr>\n",
              "    <tr>\n",
              "      <th>3</th>\n",
              "      <td>The culinary arts have evolved to include mole...</td>\n",
              "      <td>Molecular gastronomy blends science and art to...</td>\n",
              "    </tr>\n",
              "    <tr>\n",
              "      <th>4</th>\n",
              "      <td>The history of mathematics includes breakthrou...</td>\n",
              "      <td>Mathematics supports advancements in science, ...</td>\n",
              "    </tr>\n",
              "  </tbody>\n",
              "</table>\n",
              "</div>\n",
              "    <div class=\"colab-df-buttons\">\n",
              "\n",
              "  <div class=\"colab-df-container\">\n",
              "    <button class=\"colab-df-convert\" onclick=\"convertToInteractive('df-28e8fd1e-77ef-4744-babf-e23b93fd9866')\"\n",
              "            title=\"Convert this dataframe to an interactive table.\"\n",
              "            style=\"display:none;\">\n",
              "\n",
              "  <svg xmlns=\"http://www.w3.org/2000/svg\" height=\"24px\" viewBox=\"0 -960 960 960\">\n",
              "    <path d=\"M120-120v-720h720v720H120Zm60-500h600v-160H180v160Zm220 220h160v-160H400v160Zm0 220h160v-160H400v160ZM180-400h160v-160H180v160Zm440 0h160v-160H620v160ZM180-180h160v-160H180v160Zm440 0h160v-160H620v160Z\"/>\n",
              "  </svg>\n",
              "    </button>\n",
              "\n",
              "  <style>\n",
              "    .colab-df-container {\n",
              "      display:flex;\n",
              "      gap: 12px;\n",
              "    }\n",
              "\n",
              "    .colab-df-convert {\n",
              "      background-color: #E8F0FE;\n",
              "      border: none;\n",
              "      border-radius: 50%;\n",
              "      cursor: pointer;\n",
              "      display: none;\n",
              "      fill: #1967D2;\n",
              "      height: 32px;\n",
              "      padding: 0 0 0 0;\n",
              "      width: 32px;\n",
              "    }\n",
              "\n",
              "    .colab-df-convert:hover {\n",
              "      background-color: #E2EBFA;\n",
              "      box-shadow: 0px 1px 2px rgba(60, 64, 67, 0.3), 0px 1px 3px 1px rgba(60, 64, 67, 0.15);\n",
              "      fill: #174EA6;\n",
              "    }\n",
              "\n",
              "    .colab-df-buttons div {\n",
              "      margin-bottom: 4px;\n",
              "    }\n",
              "\n",
              "    [theme=dark] .colab-df-convert {\n",
              "      background-color: #3B4455;\n",
              "      fill: #D2E3FC;\n",
              "    }\n",
              "\n",
              "    [theme=dark] .colab-df-convert:hover {\n",
              "      background-color: #434B5C;\n",
              "      box-shadow: 0px 1px 3px 1px rgba(0, 0, 0, 0.15);\n",
              "      filter: drop-shadow(0px 1px 2px rgba(0, 0, 0, 0.3));\n",
              "      fill: #FFFFFF;\n",
              "    }\n",
              "  </style>\n",
              "\n",
              "    <script>\n",
              "      const buttonEl =\n",
              "        document.querySelector('#df-28e8fd1e-77ef-4744-babf-e23b93fd9866 button.colab-df-convert');\n",
              "      buttonEl.style.display =\n",
              "        google.colab.kernel.accessAllowed ? 'block' : 'none';\n",
              "\n",
              "      async function convertToInteractive(key) {\n",
              "        const element = document.querySelector('#df-28e8fd1e-77ef-4744-babf-e23b93fd9866');\n",
              "        const dataTable =\n",
              "          await google.colab.kernel.invokeFunction('convertToInteractive',\n",
              "                                                    [key], {});\n",
              "        if (!dataTable) return;\n",
              "\n",
              "        const docLinkHtml = 'Like what you see? Visit the ' +\n",
              "          '<a target=\"_blank\" href=https://colab.research.google.com/notebooks/data_table.ipynb>data table notebook</a>'\n",
              "          + ' to learn more about interactive tables.';\n",
              "        element.innerHTML = '';\n",
              "        dataTable['output_type'] = 'display_data';\n",
              "        await google.colab.output.renderOutput(dataTable, element);\n",
              "        const docLink = document.createElement('div');\n",
              "        docLink.innerHTML = docLinkHtml;\n",
              "        element.appendChild(docLink);\n",
              "      }\n",
              "    </script>\n",
              "  </div>\n",
              "\n",
              "\n",
              "<div id=\"df-f710b055-fab8-4c27-94ff-ac5385d851e1\">\n",
              "  <button class=\"colab-df-quickchart\" onclick=\"quickchart('df-f710b055-fab8-4c27-94ff-ac5385d851e1')\"\n",
              "            title=\"Suggest charts\"\n",
              "            style=\"display:none;\">\n",
              "\n",
              "<svg xmlns=\"http://www.w3.org/2000/svg\" height=\"24px\"viewBox=\"0 0 24 24\"\n",
              "     width=\"24px\">\n",
              "    <g>\n",
              "        <path d=\"M19 3H5c-1.1 0-2 .9-2 2v14c0 1.1.9 2 2 2h14c1.1 0 2-.9 2-2V5c0-1.1-.9-2-2-2zM9 17H7v-7h2v7zm4 0h-2V7h2v10zm4 0h-2v-4h2v4z\"/>\n",
              "    </g>\n",
              "</svg>\n",
              "  </button>\n",
              "\n",
              "<style>\n",
              "  .colab-df-quickchart {\n",
              "      --bg-color: #E8F0FE;\n",
              "      --fill-color: #1967D2;\n",
              "      --hover-bg-color: #E2EBFA;\n",
              "      --hover-fill-color: #174EA6;\n",
              "      --disabled-fill-color: #AAA;\n",
              "      --disabled-bg-color: #DDD;\n",
              "  }\n",
              "\n",
              "  [theme=dark] .colab-df-quickchart {\n",
              "      --bg-color: #3B4455;\n",
              "      --fill-color: #D2E3FC;\n",
              "      --hover-bg-color: #434B5C;\n",
              "      --hover-fill-color: #FFFFFF;\n",
              "      --disabled-bg-color: #3B4455;\n",
              "      --disabled-fill-color: #666;\n",
              "  }\n",
              "\n",
              "  .colab-df-quickchart {\n",
              "    background-color: var(--bg-color);\n",
              "    border: none;\n",
              "    border-radius: 50%;\n",
              "    cursor: pointer;\n",
              "    display: none;\n",
              "    fill: var(--fill-color);\n",
              "    height: 32px;\n",
              "    padding: 0;\n",
              "    width: 32px;\n",
              "  }\n",
              "\n",
              "  .colab-df-quickchart:hover {\n",
              "    background-color: var(--hover-bg-color);\n",
              "    box-shadow: 0 1px 2px rgba(60, 64, 67, 0.3), 0 1px 3px 1px rgba(60, 64, 67, 0.15);\n",
              "    fill: var(--button-hover-fill-color);\n",
              "  }\n",
              "\n",
              "  .colab-df-quickchart-complete:disabled,\n",
              "  .colab-df-quickchart-complete:disabled:hover {\n",
              "    background-color: var(--disabled-bg-color);\n",
              "    fill: var(--disabled-fill-color);\n",
              "    box-shadow: none;\n",
              "  }\n",
              "\n",
              "  .colab-df-spinner {\n",
              "    border: 2px solid var(--fill-color);\n",
              "    border-color: transparent;\n",
              "    border-bottom-color: var(--fill-color);\n",
              "    animation:\n",
              "      spin 1s steps(1) infinite;\n",
              "  }\n",
              "\n",
              "  @keyframes spin {\n",
              "    0% {\n",
              "      border-color: transparent;\n",
              "      border-bottom-color: var(--fill-color);\n",
              "      border-left-color: var(--fill-color);\n",
              "    }\n",
              "    20% {\n",
              "      border-color: transparent;\n",
              "      border-left-color: var(--fill-color);\n",
              "      border-top-color: var(--fill-color);\n",
              "    }\n",
              "    30% {\n",
              "      border-color: transparent;\n",
              "      border-left-color: var(--fill-color);\n",
              "      border-top-color: var(--fill-color);\n",
              "      border-right-color: var(--fill-color);\n",
              "    }\n",
              "    40% {\n",
              "      border-color: transparent;\n",
              "      border-right-color: var(--fill-color);\n",
              "      border-top-color: var(--fill-color);\n",
              "    }\n",
              "    60% {\n",
              "      border-color: transparent;\n",
              "      border-right-color: var(--fill-color);\n",
              "    }\n",
              "    80% {\n",
              "      border-color: transparent;\n",
              "      border-right-color: var(--fill-color);\n",
              "      border-bottom-color: var(--fill-color);\n",
              "    }\n",
              "    90% {\n",
              "      border-color: transparent;\n",
              "      border-bottom-color: var(--fill-color);\n",
              "    }\n",
              "  }\n",
              "</style>\n",
              "\n",
              "  <script>\n",
              "    async function quickchart(key) {\n",
              "      const quickchartButtonEl =\n",
              "        document.querySelector('#' + key + ' button');\n",
              "      quickchartButtonEl.disabled = true;  // To prevent multiple clicks.\n",
              "      quickchartButtonEl.classList.add('colab-df-spinner');\n",
              "      try {\n",
              "        const charts = await google.colab.kernel.invokeFunction(\n",
              "            'suggestCharts', [key], {});\n",
              "      } catch (error) {\n",
              "        console.error('Error during call to suggestCharts:', error);\n",
              "      }\n",
              "      quickchartButtonEl.classList.remove('colab-df-spinner');\n",
              "      quickchartButtonEl.classList.add('colab-df-quickchart-complete');\n",
              "    }\n",
              "    (() => {\n",
              "      let quickchartButtonEl =\n",
              "        document.querySelector('#df-f710b055-fab8-4c27-94ff-ac5385d851e1 button');\n",
              "      quickchartButtonEl.style.display =\n",
              "        google.colab.kernel.accessAllowed ? 'block' : 'none';\n",
              "    })();\n",
              "  </script>\n",
              "</div>\n",
              "\n",
              "    </div>\n",
              "  </div>\n"
            ],
            "application/vnd.google.colaboratory.intrinsic+json": {
              "type": "dataframe",
              "variable_name": "df",
              "summary": "{\n  \"name\": \"df\",\n  \"rows\": 20,\n  \"fields\": [\n    {\n      \"column\": \"article\",\n      \"properties\": {\n        \"dtype\": \"string\",\n        \"num_unique_values\": 20,\n        \"samples\": [\n          \"Space exploration has led to advancements in satellite technology, enabling better communication, weather forecasting, and global navigation systems. NASA and SpaceX continue to innovate in this field, focusing on missions to the Moon and Mars.\",\n          \"Astronomy is the study of celestial objects and phenomena. It encompasses areas like planetary science, stellar evolution, and cosmology, advancing our understanding of the universe.\",\n          \"The study of linguistics examines language structure, history, and usage. Linguists analyze phonetics, grammar, and semantics to understand how languages evolve and function.\"\n        ],\n        \"semantic_type\": \"\",\n        \"description\": \"\"\n      }\n    },\n    {\n      \"column\": \"highlights\",\n      \"properties\": {\n        \"dtype\": \"string\",\n        \"num_unique_values\": 20,\n        \"samples\": [\n          \"Space exploration drives advancements in communication and navigation.\",\n          \"Astronomy studies celestial objects and expands our knowledge of the universe.\",\n          \"Linguistics explores language structure and evolution through analysis.\"\n        ],\n        \"semantic_type\": \"\",\n        \"description\": \"\"\n      }\n    }\n  ]\n}"
            }
          },
          "metadata": {},
          "execution_count": 27
        }
      ]
    },
    {
      "cell_type": "code",
      "source": [
        "df['article'][0]"
      ],
      "metadata": {
        "colab": {
          "base_uri": "https://localhost:8080/",
          "height": 54
        },
        "id": "N7xlth7G3lsi",
        "outputId": "220711c2-9749-43f4-8325-3ab8a3e594cf"
      },
      "execution_count": null,
      "outputs": [
        {
          "output_type": "execute_result",
          "data": {
            "text/plain": [
              "'Space exploration has led to advancements in satellite technology, enabling better communication, weather forecasting, and global navigation systems. NASA and SpaceX continue to innovate in this field, focusing on missions to the Moon and Mars.'"
            ],
            "application/vnd.google.colaboratory.intrinsic+json": {
              "type": "string"
            }
          },
          "metadata": {},
          "execution_count": 28
        }
      ]
    },
    {
      "cell_type": "code",
      "source": [
        "df['highlights'][0]"
      ],
      "metadata": {
        "colab": {
          "base_uri": "https://localhost:8080/",
          "height": 36
        },
        "id": "0PyoXLXe18Yi",
        "outputId": "4a54d88c-69b3-4742-eeac-075f160f8f95"
      },
      "execution_count": null,
      "outputs": [
        {
          "output_type": "execute_result",
          "data": {
            "text/plain": [
              "'Space exploration drives advancements in communication and navigation.'"
            ],
            "application/vnd.google.colaboratory.intrinsic+json": {
              "type": "string"
            }
          },
          "metadata": {},
          "execution_count": 29
        }
      ]
    },
    {
      "cell_type": "code",
      "source": [
        "import re\n",
        "\n",
        "def clean_text(text):\n",
        "    text = re.sub(r'[^a-zA-Z0-9\\s.]', '', text)  # Allowed: letters, numbers, fullstops, space\n",
        "    text = text.lower()\n",
        "    return text"
      ],
      "metadata": {
        "id": "90PEo90vIoGm"
      },
      "execution_count": null,
      "outputs": []
    },
    {
      "cell_type": "code",
      "source": [
        "df['article'] = df['article'].apply(clean_text)\n",
        "df['highlights'] = df['highlights'].apply(clean_text)\n",
        "\n",
        "df = df.dropna(subset=['article', 'highlights'])\n",
        "df.head()"
      ],
      "metadata": {
        "colab": {
          "base_uri": "https://localhost:8080/",
          "height": 206
        },
        "id": "dLXFj6cVIqnJ",
        "outputId": "08688d21-d82b-4540-be46-9cd02ca71ec1"
      },
      "execution_count": null,
      "outputs": [
        {
          "output_type": "execute_result",
          "data": {
            "text/plain": [
              "                                             article  \\\n",
              "0  space exploration has led to advancements in s...   \n",
              "1  the history of art spans centuries from cave p...   \n",
              "2  renewable energy sources such as wind solar an...   \n",
              "3  the culinary arts have evolved to include mole...   \n",
              "4  the history of mathematics includes breakthrou...   \n",
              "\n",
              "                                          highlights  \n",
              "0  space exploration drives advancements in commu...  \n",
              "1  art documents and expresses cultural political...  \n",
              "2  renewable energy reduces carbon emissions and ...  \n",
              "3  molecular gastronomy blends science and art to...  \n",
              "4  mathematics supports advancements in science e...  "
            ],
            "text/html": [
              "\n",
              "  <div id=\"df-6999cffb-ffb5-4055-a1fd-fac7b69dd599\" class=\"colab-df-container\">\n",
              "    <div>\n",
              "<style scoped>\n",
              "    .dataframe tbody tr th:only-of-type {\n",
              "        vertical-align: middle;\n",
              "    }\n",
              "\n",
              "    .dataframe tbody tr th {\n",
              "        vertical-align: top;\n",
              "    }\n",
              "\n",
              "    .dataframe thead th {\n",
              "        text-align: right;\n",
              "    }\n",
              "</style>\n",
              "<table border=\"1\" class=\"dataframe\">\n",
              "  <thead>\n",
              "    <tr style=\"text-align: right;\">\n",
              "      <th></th>\n",
              "      <th>article</th>\n",
              "      <th>highlights</th>\n",
              "    </tr>\n",
              "  </thead>\n",
              "  <tbody>\n",
              "    <tr>\n",
              "      <th>0</th>\n",
              "      <td>space exploration has led to advancements in s...</td>\n",
              "      <td>space exploration drives advancements in commu...</td>\n",
              "    </tr>\n",
              "    <tr>\n",
              "      <th>1</th>\n",
              "      <td>the history of art spans centuries from cave p...</td>\n",
              "      <td>art documents and expresses cultural political...</td>\n",
              "    </tr>\n",
              "    <tr>\n",
              "      <th>2</th>\n",
              "      <td>renewable energy sources such as wind solar an...</td>\n",
              "      <td>renewable energy reduces carbon emissions and ...</td>\n",
              "    </tr>\n",
              "    <tr>\n",
              "      <th>3</th>\n",
              "      <td>the culinary arts have evolved to include mole...</td>\n",
              "      <td>molecular gastronomy blends science and art to...</td>\n",
              "    </tr>\n",
              "    <tr>\n",
              "      <th>4</th>\n",
              "      <td>the history of mathematics includes breakthrou...</td>\n",
              "      <td>mathematics supports advancements in science e...</td>\n",
              "    </tr>\n",
              "  </tbody>\n",
              "</table>\n",
              "</div>\n",
              "    <div class=\"colab-df-buttons\">\n",
              "\n",
              "  <div class=\"colab-df-container\">\n",
              "    <button class=\"colab-df-convert\" onclick=\"convertToInteractive('df-6999cffb-ffb5-4055-a1fd-fac7b69dd599')\"\n",
              "            title=\"Convert this dataframe to an interactive table.\"\n",
              "            style=\"display:none;\">\n",
              "\n",
              "  <svg xmlns=\"http://www.w3.org/2000/svg\" height=\"24px\" viewBox=\"0 -960 960 960\">\n",
              "    <path d=\"M120-120v-720h720v720H120Zm60-500h600v-160H180v160Zm220 220h160v-160H400v160Zm0 220h160v-160H400v160ZM180-400h160v-160H180v160Zm440 0h160v-160H620v160ZM180-180h160v-160H180v160Zm440 0h160v-160H620v160Z\"/>\n",
              "  </svg>\n",
              "    </button>\n",
              "\n",
              "  <style>\n",
              "    .colab-df-container {\n",
              "      display:flex;\n",
              "      gap: 12px;\n",
              "    }\n",
              "\n",
              "    .colab-df-convert {\n",
              "      background-color: #E8F0FE;\n",
              "      border: none;\n",
              "      border-radius: 50%;\n",
              "      cursor: pointer;\n",
              "      display: none;\n",
              "      fill: #1967D2;\n",
              "      height: 32px;\n",
              "      padding: 0 0 0 0;\n",
              "      width: 32px;\n",
              "    }\n",
              "\n",
              "    .colab-df-convert:hover {\n",
              "      background-color: #E2EBFA;\n",
              "      box-shadow: 0px 1px 2px rgba(60, 64, 67, 0.3), 0px 1px 3px 1px rgba(60, 64, 67, 0.15);\n",
              "      fill: #174EA6;\n",
              "    }\n",
              "\n",
              "    .colab-df-buttons div {\n",
              "      margin-bottom: 4px;\n",
              "    }\n",
              "\n",
              "    [theme=dark] .colab-df-convert {\n",
              "      background-color: #3B4455;\n",
              "      fill: #D2E3FC;\n",
              "    }\n",
              "\n",
              "    [theme=dark] .colab-df-convert:hover {\n",
              "      background-color: #434B5C;\n",
              "      box-shadow: 0px 1px 3px 1px rgba(0, 0, 0, 0.15);\n",
              "      filter: drop-shadow(0px 1px 2px rgba(0, 0, 0, 0.3));\n",
              "      fill: #FFFFFF;\n",
              "    }\n",
              "  </style>\n",
              "\n",
              "    <script>\n",
              "      const buttonEl =\n",
              "        document.querySelector('#df-6999cffb-ffb5-4055-a1fd-fac7b69dd599 button.colab-df-convert');\n",
              "      buttonEl.style.display =\n",
              "        google.colab.kernel.accessAllowed ? 'block' : 'none';\n",
              "\n",
              "      async function convertToInteractive(key) {\n",
              "        const element = document.querySelector('#df-6999cffb-ffb5-4055-a1fd-fac7b69dd599');\n",
              "        const dataTable =\n",
              "          await google.colab.kernel.invokeFunction('convertToInteractive',\n",
              "                                                    [key], {});\n",
              "        if (!dataTable) return;\n",
              "\n",
              "        const docLinkHtml = 'Like what you see? Visit the ' +\n",
              "          '<a target=\"_blank\" href=https://colab.research.google.com/notebooks/data_table.ipynb>data table notebook</a>'\n",
              "          + ' to learn more about interactive tables.';\n",
              "        element.innerHTML = '';\n",
              "        dataTable['output_type'] = 'display_data';\n",
              "        await google.colab.output.renderOutput(dataTable, element);\n",
              "        const docLink = document.createElement('div');\n",
              "        docLink.innerHTML = docLinkHtml;\n",
              "        element.appendChild(docLink);\n",
              "      }\n",
              "    </script>\n",
              "  </div>\n",
              "\n",
              "\n",
              "<div id=\"df-05e7c09d-276e-40ad-8e6f-958c70c77a47\">\n",
              "  <button class=\"colab-df-quickchart\" onclick=\"quickchart('df-05e7c09d-276e-40ad-8e6f-958c70c77a47')\"\n",
              "            title=\"Suggest charts\"\n",
              "            style=\"display:none;\">\n",
              "\n",
              "<svg xmlns=\"http://www.w3.org/2000/svg\" height=\"24px\"viewBox=\"0 0 24 24\"\n",
              "     width=\"24px\">\n",
              "    <g>\n",
              "        <path d=\"M19 3H5c-1.1 0-2 .9-2 2v14c0 1.1.9 2 2 2h14c1.1 0 2-.9 2-2V5c0-1.1-.9-2-2-2zM9 17H7v-7h2v7zm4 0h-2V7h2v10zm4 0h-2v-4h2v4z\"/>\n",
              "    </g>\n",
              "</svg>\n",
              "  </button>\n",
              "\n",
              "<style>\n",
              "  .colab-df-quickchart {\n",
              "      --bg-color: #E8F0FE;\n",
              "      --fill-color: #1967D2;\n",
              "      --hover-bg-color: #E2EBFA;\n",
              "      --hover-fill-color: #174EA6;\n",
              "      --disabled-fill-color: #AAA;\n",
              "      --disabled-bg-color: #DDD;\n",
              "  }\n",
              "\n",
              "  [theme=dark] .colab-df-quickchart {\n",
              "      --bg-color: #3B4455;\n",
              "      --fill-color: #D2E3FC;\n",
              "      --hover-bg-color: #434B5C;\n",
              "      --hover-fill-color: #FFFFFF;\n",
              "      --disabled-bg-color: #3B4455;\n",
              "      --disabled-fill-color: #666;\n",
              "  }\n",
              "\n",
              "  .colab-df-quickchart {\n",
              "    background-color: var(--bg-color);\n",
              "    border: none;\n",
              "    border-radius: 50%;\n",
              "    cursor: pointer;\n",
              "    display: none;\n",
              "    fill: var(--fill-color);\n",
              "    height: 32px;\n",
              "    padding: 0;\n",
              "    width: 32px;\n",
              "  }\n",
              "\n",
              "  .colab-df-quickchart:hover {\n",
              "    background-color: var(--hover-bg-color);\n",
              "    box-shadow: 0 1px 2px rgba(60, 64, 67, 0.3), 0 1px 3px 1px rgba(60, 64, 67, 0.15);\n",
              "    fill: var(--button-hover-fill-color);\n",
              "  }\n",
              "\n",
              "  .colab-df-quickchart-complete:disabled,\n",
              "  .colab-df-quickchart-complete:disabled:hover {\n",
              "    background-color: var(--disabled-bg-color);\n",
              "    fill: var(--disabled-fill-color);\n",
              "    box-shadow: none;\n",
              "  }\n",
              "\n",
              "  .colab-df-spinner {\n",
              "    border: 2px solid var(--fill-color);\n",
              "    border-color: transparent;\n",
              "    border-bottom-color: var(--fill-color);\n",
              "    animation:\n",
              "      spin 1s steps(1) infinite;\n",
              "  }\n",
              "\n",
              "  @keyframes spin {\n",
              "    0% {\n",
              "      border-color: transparent;\n",
              "      border-bottom-color: var(--fill-color);\n",
              "      border-left-color: var(--fill-color);\n",
              "    }\n",
              "    20% {\n",
              "      border-color: transparent;\n",
              "      border-left-color: var(--fill-color);\n",
              "      border-top-color: var(--fill-color);\n",
              "    }\n",
              "    30% {\n",
              "      border-color: transparent;\n",
              "      border-left-color: var(--fill-color);\n",
              "      border-top-color: var(--fill-color);\n",
              "      border-right-color: var(--fill-color);\n",
              "    }\n",
              "    40% {\n",
              "      border-color: transparent;\n",
              "      border-right-color: var(--fill-color);\n",
              "      border-top-color: var(--fill-color);\n",
              "    }\n",
              "    60% {\n",
              "      border-color: transparent;\n",
              "      border-right-color: var(--fill-color);\n",
              "    }\n",
              "    80% {\n",
              "      border-color: transparent;\n",
              "      border-right-color: var(--fill-color);\n",
              "      border-bottom-color: var(--fill-color);\n",
              "    }\n",
              "    90% {\n",
              "      border-color: transparent;\n",
              "      border-bottom-color: var(--fill-color);\n",
              "    }\n",
              "  }\n",
              "</style>\n",
              "\n",
              "  <script>\n",
              "    async function quickchart(key) {\n",
              "      const quickchartButtonEl =\n",
              "        document.querySelector('#' + key + ' button');\n",
              "      quickchartButtonEl.disabled = true;  // To prevent multiple clicks.\n",
              "      quickchartButtonEl.classList.add('colab-df-spinner');\n",
              "      try {\n",
              "        const charts = await google.colab.kernel.invokeFunction(\n",
              "            'suggestCharts', [key], {});\n",
              "      } catch (error) {\n",
              "        console.error('Error during call to suggestCharts:', error);\n",
              "      }\n",
              "      quickchartButtonEl.classList.remove('colab-df-spinner');\n",
              "      quickchartButtonEl.classList.add('colab-df-quickchart-complete');\n",
              "    }\n",
              "    (() => {\n",
              "      let quickchartButtonEl =\n",
              "        document.querySelector('#df-05e7c09d-276e-40ad-8e6f-958c70c77a47 button');\n",
              "      quickchartButtonEl.style.display =\n",
              "        google.colab.kernel.accessAllowed ? 'block' : 'none';\n",
              "    })();\n",
              "  </script>\n",
              "</div>\n",
              "\n",
              "    </div>\n",
              "  </div>\n"
            ],
            "application/vnd.google.colaboratory.intrinsic+json": {
              "type": "dataframe",
              "variable_name": "df",
              "summary": "{\n  \"name\": \"df\",\n  \"rows\": 20,\n  \"fields\": [\n    {\n      \"column\": \"article\",\n      \"properties\": {\n        \"dtype\": \"string\",\n        \"num_unique_values\": 20,\n        \"samples\": [\n          \"space exploration has led to advancements in satellite technology enabling better communication weather forecasting and global navigation systems. nasa and spacex continue to innovate in this field focusing on missions to the moon and mars.\",\n          \"astronomy is the study of celestial objects and phenomena. it encompasses areas like planetary science stellar evolution and cosmology advancing our understanding of the universe.\",\n          \"the study of linguistics examines language structure history and usage. linguists analyze phonetics grammar and semantics to understand how languages evolve and function.\"\n        ],\n        \"semantic_type\": \"\",\n        \"description\": \"\"\n      }\n    },\n    {\n      \"column\": \"highlights\",\n      \"properties\": {\n        \"dtype\": \"string\",\n        \"num_unique_values\": 20,\n        \"samples\": [\n          \"space exploration drives advancements in communication and navigation.\",\n          \"astronomy studies celestial objects and expands our knowledge of the universe.\",\n          \"linguistics explores language structure and evolution through analysis.\"\n        ],\n        \"semantic_type\": \"\",\n        \"description\": \"\"\n      }\n    }\n  ]\n}"
            }
          },
          "metadata": {},
          "execution_count": 31
        }
      ]
    },
    {
      "cell_type": "code",
      "source": [
        "import re\n",
        "\n",
        "def tokenize(text, add_ovo=False, max_length=50):\n",
        "    # Replace full stops with <SEP>\n",
        "    text = re.sub(r'\\.', ' <SEP> ', text)\n",
        "\n",
        "    tokens = text.split()\n",
        "    len_tokens = len(tokens)\n",
        "\n",
        "    if not add_ovo:\n",
        "        return tokens\n",
        "\n",
        "    if len_tokens > max_length-2:\n",
        "        tokens = tokens[:max_length-2]\n",
        "    elif len_tokens < max_length-2:\n",
        "        tokens = tokens + ['<END>'] + ['<PAD>'] * (max_length - 2 - len_tokens)\n",
        "\n",
        "    tokens = ['<START>'] + tokens\n",
        "    return tokens\n",
        "\n",
        "df['article_tokens'] = df['article'].apply(lambda text: tokenize(text, add_ovo=False))\n",
        "df['highlights_tokens'] = df['highlights'].apply(lambda text: tokenize(text, add_ovo=True))"
      ],
      "metadata": {
        "id": "qK9CqTf4It3W"
      },
      "execution_count": null,
      "outputs": []
    },
    {
      "cell_type": "code",
      "source": [
        "df.head()"
      ],
      "metadata": {
        "colab": {
          "base_uri": "https://localhost:8080/",
          "height": 206
        },
        "id": "QP7HbSPwgHyY",
        "outputId": "c833afd3-bb18-4418-de35-d86f71a4e9d3"
      },
      "execution_count": null,
      "outputs": [
        {
          "output_type": "execute_result",
          "data": {
            "text/plain": [
              "                                             article  \\\n",
              "0  space exploration has led to advancements in s...   \n",
              "1  the history of art spans centuries from cave p...   \n",
              "2  renewable energy sources such as wind solar an...   \n",
              "3  the culinary arts have evolved to include mole...   \n",
              "4  the history of mathematics includes breakthrou...   \n",
              "\n",
              "                                          highlights  \\\n",
              "0  space exploration drives advancements in commu...   \n",
              "1  art documents and expresses cultural political...   \n",
              "2  renewable energy reduces carbon emissions and ...   \n",
              "3  molecular gastronomy blends science and art to...   \n",
              "4  mathematics supports advancements in science e...   \n",
              "\n",
              "                                      article_tokens  \\\n",
              "0  [space, exploration, has, led, to, advancement...   \n",
              "1  [the, history, of, art, spans, centuries, from...   \n",
              "2  [renewable, energy, sources, such, as, wind, s...   \n",
              "3  [the, culinary, arts, have, evolved, to, inclu...   \n",
              "4  [the, history, of, mathematics, includes, brea...   \n",
              "\n",
              "                                   highlights_tokens  \n",
              "0  [<START>, space, exploration, drives, advancem...  \n",
              "1  [<START>, art, documents, and, expresses, cult...  \n",
              "2  [<START>, renewable, energy, reduces, carbon, ...  \n",
              "3  [<START>, molecular, gastronomy, blends, scien...  \n",
              "4  [<START>, mathematics, supports, advancements,...  "
            ],
            "text/html": [
              "\n",
              "  <div id=\"df-0106bdec-27d6-470e-849e-e9933a48a774\" class=\"colab-df-container\">\n",
              "    <div>\n",
              "<style scoped>\n",
              "    .dataframe tbody tr th:only-of-type {\n",
              "        vertical-align: middle;\n",
              "    }\n",
              "\n",
              "    .dataframe tbody tr th {\n",
              "        vertical-align: top;\n",
              "    }\n",
              "\n",
              "    .dataframe thead th {\n",
              "        text-align: right;\n",
              "    }\n",
              "</style>\n",
              "<table border=\"1\" class=\"dataframe\">\n",
              "  <thead>\n",
              "    <tr style=\"text-align: right;\">\n",
              "      <th></th>\n",
              "      <th>article</th>\n",
              "      <th>highlights</th>\n",
              "      <th>article_tokens</th>\n",
              "      <th>highlights_tokens</th>\n",
              "    </tr>\n",
              "  </thead>\n",
              "  <tbody>\n",
              "    <tr>\n",
              "      <th>0</th>\n",
              "      <td>space exploration has led to advancements in s...</td>\n",
              "      <td>space exploration drives advancements in commu...</td>\n",
              "      <td>[space, exploration, has, led, to, advancement...</td>\n",
              "      <td>[&lt;START&gt;, space, exploration, drives, advancem...</td>\n",
              "    </tr>\n",
              "    <tr>\n",
              "      <th>1</th>\n",
              "      <td>the history of art spans centuries from cave p...</td>\n",
              "      <td>art documents and expresses cultural political...</td>\n",
              "      <td>[the, history, of, art, spans, centuries, from...</td>\n",
              "      <td>[&lt;START&gt;, art, documents, and, expresses, cult...</td>\n",
              "    </tr>\n",
              "    <tr>\n",
              "      <th>2</th>\n",
              "      <td>renewable energy sources such as wind solar an...</td>\n",
              "      <td>renewable energy reduces carbon emissions and ...</td>\n",
              "      <td>[renewable, energy, sources, such, as, wind, s...</td>\n",
              "      <td>[&lt;START&gt;, renewable, energy, reduces, carbon, ...</td>\n",
              "    </tr>\n",
              "    <tr>\n",
              "      <th>3</th>\n",
              "      <td>the culinary arts have evolved to include mole...</td>\n",
              "      <td>molecular gastronomy blends science and art to...</td>\n",
              "      <td>[the, culinary, arts, have, evolved, to, inclu...</td>\n",
              "      <td>[&lt;START&gt;, molecular, gastronomy, blends, scien...</td>\n",
              "    </tr>\n",
              "    <tr>\n",
              "      <th>4</th>\n",
              "      <td>the history of mathematics includes breakthrou...</td>\n",
              "      <td>mathematics supports advancements in science e...</td>\n",
              "      <td>[the, history, of, mathematics, includes, brea...</td>\n",
              "      <td>[&lt;START&gt;, mathematics, supports, advancements,...</td>\n",
              "    </tr>\n",
              "  </tbody>\n",
              "</table>\n",
              "</div>\n",
              "    <div class=\"colab-df-buttons\">\n",
              "\n",
              "  <div class=\"colab-df-container\">\n",
              "    <button class=\"colab-df-convert\" onclick=\"convertToInteractive('df-0106bdec-27d6-470e-849e-e9933a48a774')\"\n",
              "            title=\"Convert this dataframe to an interactive table.\"\n",
              "            style=\"display:none;\">\n",
              "\n",
              "  <svg xmlns=\"http://www.w3.org/2000/svg\" height=\"24px\" viewBox=\"0 -960 960 960\">\n",
              "    <path d=\"M120-120v-720h720v720H120Zm60-500h600v-160H180v160Zm220 220h160v-160H400v160Zm0 220h160v-160H400v160ZM180-400h160v-160H180v160Zm440 0h160v-160H620v160ZM180-180h160v-160H180v160Zm440 0h160v-160H620v160Z\"/>\n",
              "  </svg>\n",
              "    </button>\n",
              "\n",
              "  <style>\n",
              "    .colab-df-container {\n",
              "      display:flex;\n",
              "      gap: 12px;\n",
              "    }\n",
              "\n",
              "    .colab-df-convert {\n",
              "      background-color: #E8F0FE;\n",
              "      border: none;\n",
              "      border-radius: 50%;\n",
              "      cursor: pointer;\n",
              "      display: none;\n",
              "      fill: #1967D2;\n",
              "      height: 32px;\n",
              "      padding: 0 0 0 0;\n",
              "      width: 32px;\n",
              "    }\n",
              "\n",
              "    .colab-df-convert:hover {\n",
              "      background-color: #E2EBFA;\n",
              "      box-shadow: 0px 1px 2px rgba(60, 64, 67, 0.3), 0px 1px 3px 1px rgba(60, 64, 67, 0.15);\n",
              "      fill: #174EA6;\n",
              "    }\n",
              "\n",
              "    .colab-df-buttons div {\n",
              "      margin-bottom: 4px;\n",
              "    }\n",
              "\n",
              "    [theme=dark] .colab-df-convert {\n",
              "      background-color: #3B4455;\n",
              "      fill: #D2E3FC;\n",
              "    }\n",
              "\n",
              "    [theme=dark] .colab-df-convert:hover {\n",
              "      background-color: #434B5C;\n",
              "      box-shadow: 0px 1px 3px 1px rgba(0, 0, 0, 0.15);\n",
              "      filter: drop-shadow(0px 1px 2px rgba(0, 0, 0, 0.3));\n",
              "      fill: #FFFFFF;\n",
              "    }\n",
              "  </style>\n",
              "\n",
              "    <script>\n",
              "      const buttonEl =\n",
              "        document.querySelector('#df-0106bdec-27d6-470e-849e-e9933a48a774 button.colab-df-convert');\n",
              "      buttonEl.style.display =\n",
              "        google.colab.kernel.accessAllowed ? 'block' : 'none';\n",
              "\n",
              "      async function convertToInteractive(key) {\n",
              "        const element = document.querySelector('#df-0106bdec-27d6-470e-849e-e9933a48a774');\n",
              "        const dataTable =\n",
              "          await google.colab.kernel.invokeFunction('convertToInteractive',\n",
              "                                                    [key], {});\n",
              "        if (!dataTable) return;\n",
              "\n",
              "        const docLinkHtml = 'Like what you see? Visit the ' +\n",
              "          '<a target=\"_blank\" href=https://colab.research.google.com/notebooks/data_table.ipynb>data table notebook</a>'\n",
              "          + ' to learn more about interactive tables.';\n",
              "        element.innerHTML = '';\n",
              "        dataTable['output_type'] = 'display_data';\n",
              "        await google.colab.output.renderOutput(dataTable, element);\n",
              "        const docLink = document.createElement('div');\n",
              "        docLink.innerHTML = docLinkHtml;\n",
              "        element.appendChild(docLink);\n",
              "      }\n",
              "    </script>\n",
              "  </div>\n",
              "\n",
              "\n",
              "<div id=\"df-fe23e7b2-5695-4849-81b7-3ca8d4f69861\">\n",
              "  <button class=\"colab-df-quickchart\" onclick=\"quickchart('df-fe23e7b2-5695-4849-81b7-3ca8d4f69861')\"\n",
              "            title=\"Suggest charts\"\n",
              "            style=\"display:none;\">\n",
              "\n",
              "<svg xmlns=\"http://www.w3.org/2000/svg\" height=\"24px\"viewBox=\"0 0 24 24\"\n",
              "     width=\"24px\">\n",
              "    <g>\n",
              "        <path d=\"M19 3H5c-1.1 0-2 .9-2 2v14c0 1.1.9 2 2 2h14c1.1 0 2-.9 2-2V5c0-1.1-.9-2-2-2zM9 17H7v-7h2v7zm4 0h-2V7h2v10zm4 0h-2v-4h2v4z\"/>\n",
              "    </g>\n",
              "</svg>\n",
              "  </button>\n",
              "\n",
              "<style>\n",
              "  .colab-df-quickchart {\n",
              "      --bg-color: #E8F0FE;\n",
              "      --fill-color: #1967D2;\n",
              "      --hover-bg-color: #E2EBFA;\n",
              "      --hover-fill-color: #174EA6;\n",
              "      --disabled-fill-color: #AAA;\n",
              "      --disabled-bg-color: #DDD;\n",
              "  }\n",
              "\n",
              "  [theme=dark] .colab-df-quickchart {\n",
              "      --bg-color: #3B4455;\n",
              "      --fill-color: #D2E3FC;\n",
              "      --hover-bg-color: #434B5C;\n",
              "      --hover-fill-color: #FFFFFF;\n",
              "      --disabled-bg-color: #3B4455;\n",
              "      --disabled-fill-color: #666;\n",
              "  }\n",
              "\n",
              "  .colab-df-quickchart {\n",
              "    background-color: var(--bg-color);\n",
              "    border: none;\n",
              "    border-radius: 50%;\n",
              "    cursor: pointer;\n",
              "    display: none;\n",
              "    fill: var(--fill-color);\n",
              "    height: 32px;\n",
              "    padding: 0;\n",
              "    width: 32px;\n",
              "  }\n",
              "\n",
              "  .colab-df-quickchart:hover {\n",
              "    background-color: var(--hover-bg-color);\n",
              "    box-shadow: 0 1px 2px rgba(60, 64, 67, 0.3), 0 1px 3px 1px rgba(60, 64, 67, 0.15);\n",
              "    fill: var(--button-hover-fill-color);\n",
              "  }\n",
              "\n",
              "  .colab-df-quickchart-complete:disabled,\n",
              "  .colab-df-quickchart-complete:disabled:hover {\n",
              "    background-color: var(--disabled-bg-color);\n",
              "    fill: var(--disabled-fill-color);\n",
              "    box-shadow: none;\n",
              "  }\n",
              "\n",
              "  .colab-df-spinner {\n",
              "    border: 2px solid var(--fill-color);\n",
              "    border-color: transparent;\n",
              "    border-bottom-color: var(--fill-color);\n",
              "    animation:\n",
              "      spin 1s steps(1) infinite;\n",
              "  }\n",
              "\n",
              "  @keyframes spin {\n",
              "    0% {\n",
              "      border-color: transparent;\n",
              "      border-bottom-color: var(--fill-color);\n",
              "      border-left-color: var(--fill-color);\n",
              "    }\n",
              "    20% {\n",
              "      border-color: transparent;\n",
              "      border-left-color: var(--fill-color);\n",
              "      border-top-color: var(--fill-color);\n",
              "    }\n",
              "    30% {\n",
              "      border-color: transparent;\n",
              "      border-left-color: var(--fill-color);\n",
              "      border-top-color: var(--fill-color);\n",
              "      border-right-color: var(--fill-color);\n",
              "    }\n",
              "    40% {\n",
              "      border-color: transparent;\n",
              "      border-right-color: var(--fill-color);\n",
              "      border-top-color: var(--fill-color);\n",
              "    }\n",
              "    60% {\n",
              "      border-color: transparent;\n",
              "      border-right-color: var(--fill-color);\n",
              "    }\n",
              "    80% {\n",
              "      border-color: transparent;\n",
              "      border-right-color: var(--fill-color);\n",
              "      border-bottom-color: var(--fill-color);\n",
              "    }\n",
              "    90% {\n",
              "      border-color: transparent;\n",
              "      border-bottom-color: var(--fill-color);\n",
              "    }\n",
              "  }\n",
              "</style>\n",
              "\n",
              "  <script>\n",
              "    async function quickchart(key) {\n",
              "      const quickchartButtonEl =\n",
              "        document.querySelector('#' + key + ' button');\n",
              "      quickchartButtonEl.disabled = true;  // To prevent multiple clicks.\n",
              "      quickchartButtonEl.classList.add('colab-df-spinner');\n",
              "      try {\n",
              "        const charts = await google.colab.kernel.invokeFunction(\n",
              "            'suggestCharts', [key], {});\n",
              "      } catch (error) {\n",
              "        console.error('Error during call to suggestCharts:', error);\n",
              "      }\n",
              "      quickchartButtonEl.classList.remove('colab-df-spinner');\n",
              "      quickchartButtonEl.classList.add('colab-df-quickchart-complete');\n",
              "    }\n",
              "    (() => {\n",
              "      let quickchartButtonEl =\n",
              "        document.querySelector('#df-fe23e7b2-5695-4849-81b7-3ca8d4f69861 button');\n",
              "      quickchartButtonEl.style.display =\n",
              "        google.colab.kernel.accessAllowed ? 'block' : 'none';\n",
              "    })();\n",
              "  </script>\n",
              "</div>\n",
              "\n",
              "    </div>\n",
              "  </div>\n"
            ],
            "application/vnd.google.colaboratory.intrinsic+json": {
              "type": "dataframe",
              "variable_name": "df",
              "summary": "{\n  \"name\": \"df\",\n  \"rows\": 20,\n  \"fields\": [\n    {\n      \"column\": \"article\",\n      \"properties\": {\n        \"dtype\": \"string\",\n        \"num_unique_values\": 20,\n        \"samples\": [\n          \"space exploration has led to advancements in satellite technology enabling better communication weather forecasting and global navigation systems. nasa and spacex continue to innovate in this field focusing on missions to the moon and mars.\",\n          \"astronomy is the study of celestial objects and phenomena. it encompasses areas like planetary science stellar evolution and cosmology advancing our understanding of the universe.\",\n          \"the study of linguistics examines language structure history and usage. linguists analyze phonetics grammar and semantics to understand how languages evolve and function.\"\n        ],\n        \"semantic_type\": \"\",\n        \"description\": \"\"\n      }\n    },\n    {\n      \"column\": \"highlights\",\n      \"properties\": {\n        \"dtype\": \"string\",\n        \"num_unique_values\": 20,\n        \"samples\": [\n          \"space exploration drives advancements in communication and navigation.\",\n          \"astronomy studies celestial objects and expands our knowledge of the universe.\",\n          \"linguistics explores language structure and evolution through analysis.\"\n        ],\n        \"semantic_type\": \"\",\n        \"description\": \"\"\n      }\n    },\n    {\n      \"column\": \"article_tokens\",\n      \"properties\": {\n        \"dtype\": \"object\",\n        \"semantic_type\": \"\",\n        \"description\": \"\"\n      }\n    },\n    {\n      \"column\": \"highlights_tokens\",\n      \"properties\": {\n        \"dtype\": \"object\",\n        \"semantic_type\": \"\",\n        \"description\": \"\"\n      }\n    }\n  ]\n}"
            }
          },
          "metadata": {},
          "execution_count": 33
        }
      ]
    },
    {
      "cell_type": "code",
      "source": [
        "print(f\"Tokenized sentence: {df['highlights_tokens'][0]}\")\n",
        "print(f\"Length of tokenized sentence: {len(df['highlights_tokens'][0])}\")\n",
        "\n",
        "print(f\"Tokenized article: {df['article_tokens'][0]}\")\n",
        "print(f\"Length of article sentence: {len(df['article_tokens'][0])}\")"
      ],
      "metadata": {
        "colab": {
          "base_uri": "https://localhost:8080/"
        },
        "id": "8WcYYGFgnEa3",
        "outputId": "c5dc33eb-9739-4328-bd01-88cde9b49375"
      },
      "execution_count": null,
      "outputs": [
        {
          "output_type": "stream",
          "name": "stdout",
          "text": [
            "Tokenized sentence: ['<START>', 'space', 'exploration', 'drives', 'advancements', 'in', 'communication', 'and', 'navigation', '<SEP>', '<END>', '<PAD>', '<PAD>', '<PAD>', '<PAD>', '<PAD>', '<PAD>', '<PAD>', '<PAD>', '<PAD>', '<PAD>', '<PAD>', '<PAD>', '<PAD>', '<PAD>', '<PAD>', '<PAD>', '<PAD>', '<PAD>', '<PAD>', '<PAD>', '<PAD>', '<PAD>', '<PAD>', '<PAD>', '<PAD>', '<PAD>', '<PAD>', '<PAD>', '<PAD>', '<PAD>', '<PAD>', '<PAD>', '<PAD>', '<PAD>', '<PAD>', '<PAD>', '<PAD>', '<PAD>', '<PAD>']\n",
            "Length of tokenized sentence: 50\n",
            "Tokenized article: ['space', 'exploration', 'has', 'led', 'to', 'advancements', 'in', 'satellite', 'technology', 'enabling', 'better', 'communication', 'weather', 'forecasting', 'and', 'global', 'navigation', 'systems', '<SEP>', 'nasa', 'and', 'spacex', 'continue', 'to', 'innovate', 'in', 'this', 'field', 'focusing', 'on', 'missions', 'to', 'the', 'moon', 'and', 'mars', '<SEP>']\n",
            "Length of article sentence: 37\n"
          ]
        }
      ]
    },
    {
      "cell_type": "code",
      "source": [
        "from gensim.models import Word2Vec\n",
        "\n",
        "# # Combine the article and highlight tokens into a single corpus for training\n",
        "corpus = df['article_tokens'].tolist() + df['highlights_tokens'].tolist()\n",
        "vector_size=256\n",
        "word2vec_model = Word2Vec(sentences=corpus, vector_size=vector_size, window=5, min_count=1, workers=4)\n",
        "# word2vec_model.save(\"/content/drive/MyDrive/word2vec_model_1.model\")"
      ],
      "metadata": {
        "id": "a1cXV_skgOLy"
      },
      "execution_count": null,
      "outputs": []
    },
    {
      "cell_type": "code",
      "source": [
        "from gensim.models import Word2Vec\n",
        "word2vec_model = Word2Vec.load(\"/content/drive/MyDrive/word2vec_model_1.model\")"
      ],
      "metadata": {
        "id": "mCO0EU4ykhQD"
      },
      "execution_count": null,
      "outputs": []
    },
    {
      "cell_type": "code",
      "source": [
        "import numpy as np\n",
        "import torch\n",
        "from torch import nn"
      ],
      "metadata": {
        "id": "HW82Gey9gOIZ"
      },
      "execution_count": null,
      "outputs": []
    },
    {
      "cell_type": "code",
      "source": [
        "vocab = set(token for tokens in corpus for token in tokens)\n",
        "vocab.add('<UNK>')\n",
        "word2idx = {word: idx for idx, word in enumerate(vocab)}\n",
        "idx2word = {idx: word for word, idx in word2idx.items()}"
      ],
      "metadata": {
        "id": "eEH81XIqgOE8"
      },
      "execution_count": null,
      "outputs": []
    },
    {
      "cell_type": "code",
      "source": [
        "word2idx['bishop'], word2idx['<START>'], word2idx['<END>'], word2idx['<UNK>'], word2idx['<SEP>']"
      ],
      "metadata": {
        "colab": {
          "base_uri": "https://localhost:8080/"
        },
        "id": "o7OhOV-0gOBu",
        "outputId": "c81f6dd2-e953-4085-ea77-0b51753c948b"
      },
      "execution_count": null,
      "outputs": [
        {
          "output_type": "execute_result",
          "data": {
            "text/plain": [
              "(62399, 81084, 25280, 50582, 19628)"
            ]
          },
          "metadata": {},
          "execution_count": 179
        }
      ]
    },
    {
      "cell_type": "code",
      "execution_count": null,
      "metadata": {
        "id": "lJUbDb-_UGvk"
      },
      "outputs": [],
      "source": [
        "embedding_dim = vector_size  # Should match the vector size used during training\n",
        "embedding_matrix = np.zeros((len(vocab), embedding_dim))"
      ]
    },
    {
      "cell_type": "code",
      "source": [
        "for word, idx in word2idx.items():\n",
        "    if word in word2vec_model.wv:\n",
        "        embedding_matrix[idx] = word2vec_model.wv[word]\n",
        "    else:\n",
        "        embedding_matrix[idx] = np.random.uniform(-0.1, 0.1, embedding_dim)  # Random initialization for unknown words\n",
        "\n",
        "embedding_tensor = torch.FloatTensor(embedding_matrix)\n",
        "embedding_tensor.shape"
      ],
      "metadata": {
        "colab": {
          "base_uri": "https://localhost:8080/"
        },
        "id": "haFRfm9UhDoF",
        "outputId": "9d336fc7-a4a9-4675-b282-6591ec2c439d"
      },
      "execution_count": null,
      "outputs": [
        {
          "output_type": "execute_result",
          "data": {
            "text/plain": [
              "torch.Size([354, 256])"
            ]
          },
          "metadata": {},
          "execution_count": 39
        }
      ]
    },
    {
      "cell_type": "code",
      "source": [
        "number_of_unique_words, embedding_dim = embedding_tensor.shape\n",
        "number_of_unique_words, embedding_dim"
      ],
      "metadata": {
        "colab": {
          "base_uri": "https://localhost:8080/"
        },
        "id": "Q7168ToPhDkv",
        "outputId": "02f21374-d858-4f7e-c676-b95ce7db94c6"
      },
      "execution_count": null,
      "outputs": [
        {
          "output_type": "execute_result",
          "data": {
            "text/plain": [
              "(354, 256)"
            ]
          },
          "metadata": {},
          "execution_count": 40
        }
      ]
    },
    {
      "cell_type": "code",
      "source": [
        "from torch.utils.data import Dataset, DataLoader\n",
        "class TextSummarizationDataset(Dataset):\n",
        "    def __init__(self, df, word2idx, embedding_dim=100):\n",
        "        self.df = df\n",
        "        self.word2idx = word2idx\n",
        "        self.embedding_dim = embedding_dim\n",
        "\n",
        "    def __len__(self):\n",
        "        return len(self.df)\n",
        "\n",
        "    def __getitem__(self, idx):\n",
        "        article = self.df['article_tokens'].iloc[idx]\n",
        "        highlights = self.df['highlights_tokens'].iloc[idx]\n",
        "\n",
        "        article_indices = [self.word2idx.get(word, self.word2idx['<UNK>']) for word in article]\n",
        "        highlight_indices = [self.word2idx.get(word, self.word2idx['<UNK>']) for word in highlights]\n",
        "\n",
        "        return torch.tensor(article_indices), torch.tensor(highlight_indices)"
      ],
      "metadata": {
        "id": "n8turqObhDiJ"
      },
      "execution_count": null,
      "outputs": []
    },
    {
      "cell_type": "code",
      "source": [
        "from torch.nn.utils.rnn import pad_sequence\n",
        "\n",
        "def collate_fn(batch):\n",
        "    source, target = zip(*batch)\n",
        "    source_padded = pad_sequence(source, batch_first=True, padding_value=word2idx['<PAD>'])\n",
        "    target_padded = pad_sequence(target, batch_first=True, padding_value=word2idx['<PAD>'])\n",
        "\n",
        "    return source_padded, target_padded"
      ],
      "metadata": {
        "id": "dmpvtQx27DX-"
      },
      "execution_count": null,
      "outputs": []
    },
    {
      "cell_type": "code",
      "source": [
        "dataset = TextSummarizationDataset(df, word2idx, embedding_dim)\n",
        "dataloader = DataLoader(dataset, batch_size=1, collate_fn=collate_fn, shuffle=True)"
      ],
      "metadata": {
        "id": "XU9mJlUfhDfR"
      },
      "execution_count": null,
      "outputs": []
    },
    {
      "cell_type": "code",
      "source": [
        "class LSTM_Encoder(nn.Module):\n",
        "    def __init__(self, input_shape: int, hidden_shape: int):\n",
        "\n",
        "        super(LSTM_Encoder, self).__init__()\n",
        "        self.hidden_shape = hidden_shape\n",
        "        self.sigmoid = nn.Sigmoid()\n",
        "        self.tanh = nn.Tanh()\n",
        "\n",
        "        # LSTM gates\n",
        "        self.forget_gate_layer = nn.Linear(in_features=input_shape + hidden_shape, out_features=hidden_shape)\n",
        "        self.input_gate_sig_layer = nn.Linear(in_features=input_shape + hidden_shape, out_features=hidden_shape)\n",
        "        self.input_gate_tanh_layer = nn.Linear(in_features=input_shape + hidden_shape, out_features=hidden_shape)\n",
        "        self.output_gate_layer = nn.Linear(in_features=input_shape + hidden_shape, out_features=hidden_shape)\n",
        "\n",
        "        # Final output layer to match the input size\n",
        "        self.output_layer = nn.Linear(hidden_shape, input_shape)\n",
        "\n",
        "    def forward(self, x):\n",
        "\n",
        "        batch_size, seq_length, input_shape = x.size()\n",
        "\n",
        "        ht = torch.zeros(batch_size, self.hidden_shape, device=x.device)\n",
        "        ct = torch.zeros(batch_size, self.hidden_shape, device=x.device)\n",
        "\n",
        "        for t in range(seq_length):\n",
        "            xt = x[:, t, :]\n",
        "            concatenated_input = torch.cat((ht, xt), dim=1)\n",
        "\n",
        "            # Forget gate\n",
        "            ft = self.sigmoid(self.forget_gate_layer(concatenated_input))\n",
        "            ct = ft * ct\n",
        "\n",
        "            # Input gate\n",
        "            it = self.sigmoid(self.input_gate_sig_layer(concatenated_input))\n",
        "            candidate_ct = self.tanh(self.input_gate_tanh_layer(concatenated_input))\n",
        "            ct = ct + (it * candidate_ct)\n",
        "\n",
        "            # Output gate\n",
        "            ot = self.sigmoid(self.output_gate_layer(concatenated_input))\n",
        "            ht = ot * self.tanh(ct)\n",
        "\n",
        "        return ht, ct\n"
      ],
      "metadata": {
        "id": "IK7TgJhyUNlG"
      },
      "execution_count": null,
      "outputs": []
    },
    {
      "cell_type": "code",
      "source": [
        "class LSTM_Decoder(nn.Module):\n",
        "    def __init__(self, input_shape: int, hidden_shape: int, vocab_size: int, embedding_dim=100):\n",
        "        super(LSTM_Decoder, self).__init__()\n",
        "        self.hidden_shape = hidden_shape\n",
        "        self.sigmoid = nn.Sigmoid()\n",
        "        self.tanh = nn.Tanh()\n",
        "\n",
        "        # Embedding and Output projection layers\n",
        "        self.embedding_layer = nn.Embedding(vocab_size, embedding_dim)\n",
        "        self.fc = nn.Linear(hidden_shape, vocab_size)\n",
        "        self.softmax = nn.Softmax(dim=1)\n",
        "\n",
        "        # LSTM gates\n",
        "        self.forget_gate_layer = nn.Linear(in_features=input_shape + hidden_shape, out_features=hidden_shape)\n",
        "        self.input_gate_sig_layer = nn.Linear(in_features=input_shape + hidden_shape, out_features=hidden_shape)\n",
        "        self.input_gate_tanh_layer = nn.Linear(in_features=input_shape + hidden_shape, out_features=hidden_shape)\n",
        "        self.output_gate_layer = nn.Linear(in_features=input_shape + hidden_shape, out_features=hidden_shape)\n",
        "\n",
        "    def forward(self, target, ht, ct):\n",
        "      target_embedding = target.long()\n",
        "      batch_size, seq_length, input_shape = target_embedding.size()\n",
        "\n",
        "      outputs = []\n",
        "\n",
        "      for t in range(seq_length):\n",
        "          xt = target_embedding[:, t, :]  # [batch_size, input_shape]\n",
        "          # xt = target_embedding[:, t, :].unsqueeze(1) => if batch size > 1\n",
        "          concatenated_input = torch.cat((ht, xt), dim=1)  # [batch_size, input_shape + hidden_shape]\n",
        "\n",
        "          # Forget gate\n",
        "          ft = self.sigmoid(self.forget_gate_layer(concatenated_input))  # [batch_size, hidden_shape]\n",
        "          ct = ft * ct\n",
        "\n",
        "          # Input gate\n",
        "          it = self.sigmoid(self.input_gate_sig_layer(concatenated_input))  # [batch_size, hidden_shape]\n",
        "          candidate_ct = self.tanh(self.input_gate_tanh_layer(concatenated_input))  # [batch_size, hidden_shape]\n",
        "          ct = ct + (it * candidate_ct)\n",
        "\n",
        "          # Output gate\n",
        "          ot = self.sigmoid(self.output_gate_layer(concatenated_input))  # [batch_size, hidden_shape]\n",
        "          ht = ot * self.tanh(ct)  # [batch_size, hidden_shape]\n",
        "\n",
        "          # Generate output for this timestep\n",
        "          output = self.fc(ht)  # [batch_size, vocab_size]\n",
        "          outputs.append(output)  # Do not apply softmax here\n",
        "\n",
        "      # Stack all timestep outputs: [batch_size, seq_length, vocab_size]\n",
        "      outputs = torch.stack(outputs, dim=1)\n",
        "\n",
        "      return outputs\n",
        "\n",
        "\n",
        "    def predict(self, start_token, ht, ct, max_len=50):\n",
        "        start_token_embedding = start_token.long()  # [batch_size, embedding_dim]\n",
        "        # start_token_embedding = start_token.long().unsqueeze(0)\n",
        "        # print(f\"start_token_embedding shape: {start_token.shape}\")\n",
        "        batch_size, input_shape = start_token_embedding.size()\n",
        "\n",
        "        outputs = []\n",
        "        xt = start_token_embedding\n",
        "\n",
        "        for _ in range(max_len):\n",
        "            concatenated_input = torch.cat((ht, xt), dim=1)  # [batch_size, input_shape + hidden_shape]\n",
        "\n",
        "            # Forget gate\n",
        "            ft = self.sigmoid(self.forget_gate_layer(concatenated_input))  # [batch_size, hidden_shape]\n",
        "            ct = ft * ct\n",
        "\n",
        "            # Input gate\n",
        "            it = self.sigmoid(self.input_gate_sig_layer(concatenated_input))  # [batch_size, hidden_shape]\n",
        "            candidate_ct = self.tanh(self.input_gate_tanh_layer(concatenated_input))  # [batch_size, hidden_shape]\n",
        "            ct = ct + (it * candidate_ct)\n",
        "\n",
        "            # Output gate\n",
        "            ot = self.sigmoid(self.output_gate_layer(concatenated_input))  # [batch_size, hidden_shape]\n",
        "            ht = ot * self.tanh(ct)  # [batch_size, hidden_shape]\n",
        "\n",
        "            # Generate output for this timestep\n",
        "            output = self.fc(ht)  # [batch_size, vocab_size]\n",
        "            output = self.softmax(output)  # Apply softmax to get probabilities => [batch_size, vocab_size]\n",
        "            outputs.append(output)\n",
        "\n",
        "            # Update xt with the embedding of the predicted token\n",
        "            predicted_token = torch.argmax(output, dim=1)  # [batch_size]\n",
        "            xt = self.embedding_layer(predicted_token)  # [batch_size, embedding_dim]\n",
        "\n",
        "        # Stack all timestep outputs: [batch_size, max_len, vocab_size]\n",
        "        outputs = torch.stack(outputs, dim=1)\n",
        "\n",
        "        return outputs\n"
      ],
      "metadata": {
        "id": "pSbHJXnScikt"
      },
      "execution_count": null,
      "outputs": []
    },
    {
      "cell_type": "code",
      "source": [
        "class Seq2Seq(nn.Module):\n",
        "    def __init__(self, encoder, decoder, pretrained_embeddings):\n",
        "        super(Seq2Seq, self).__init__()\n",
        "        self.encoder = encoder\n",
        "        self.decoder = decoder\n",
        "        self.embedding_layer = nn.Embedding.from_pretrained(pretrained_embeddings, freeze=False)\n",
        "\n",
        "    def forward(self, source, target):\n",
        "        '''\n",
        "          source: [batch_size, seq_len]\n",
        "          target: [batch_size, seq_len]\n",
        "        '''\n",
        "        source_emb = self.embedding_layer(source)  # [batch_size, seq_length, embedding_dim]\n",
        "        ht, ct = self.encoder(source_emb)\n",
        "        target_emb = self.embedding_layer(target)  # [batch_size, seq_length, embedding_dim]\n",
        "        outputs = self.decoder(target_emb, ht, ct)\n",
        "        return outputs\n",
        "\n",
        "    def predict(self, source, start_token_id):\n",
        "        '''\n",
        "          source: [batch_size, seq_len]\n",
        "          start_token_id: tensor\n",
        "        '''\n",
        "        source_emb = self.embedding_layer(source)  # [batch_size, seq_length, embedding_dim]\n",
        "        ht, ct = self.encoder(source_emb)\n",
        "        start_token_embed = self.embedding_layer(start_token_id)  # [batch_size, embedding_dim]\n",
        "        outputs = self.decoder.predict(start_token_embed, ht, ct) # outputs => [batch_size, max_len, vocab_size]\n",
        "        return outputs"
      ],
      "metadata": {
        "id": "-IViaq06DntU"
      },
      "execution_count": null,
      "outputs": []
    },
    {
      "cell_type": "code",
      "source": [],
      "metadata": {
        "id": "t8YVcxQHkDCu"
      },
      "execution_count": null,
      "outputs": []
    },
    {
      "cell_type": "code",
      "source": [
        "import torch\n",
        "import torch.nn as nn\n",
        "import torch.optim as optim\n",
        "import os\n",
        "\n",
        "# Define model components\n",
        "hidden_dim = 1024\n",
        "vocab_size = number_of_unique_words\n",
        "checkpoint_path = \"/content/drive/MyDrive/text_summarizer_models/model_simple.pt\"\n",
        "\n",
        "start_epoch = 0\n",
        "loss = float('inf')\n",
        "loss_list = []  # To store the list of losses\n",
        "\n",
        "# Initialize model components\n",
        "encoder = LSTM_Encoder(input_shape=embedding_dim, hidden_shape=hidden_dim)\n",
        "decoder = LSTM_Decoder(input_shape=embedding_dim, hidden_shape=hidden_dim, vocab_size=vocab_size, embedding_dim=embedding_dim)\n",
        "model = Seq2Seq(encoder=encoder, decoder=decoder, pretrained_embeddings=embedding_tensor)\n",
        "model = model.cuda() if torch.cuda.is_available() else model\n",
        "optimizer = optim.Adam(model.parameters())\n",
        "\n",
        "# Function to load checkpoint\n",
        "def load_model_checkpoint(checkpoint_path, model, optimizer):\n",
        "    if os.path.exists(checkpoint_path):\n",
        "        checkpoint = torch.load(checkpoint_path)\n",
        "        model.load_state_dict(checkpoint['model_state_dict'])\n",
        "        optimizer.load_state_dict(checkpoint['optimizer_state_dict'])\n",
        "        start_epoch = checkpoint['epoch']\n",
        "        loss = checkpoint['loss']\n",
        "        loss_list = checkpoint.get('loss_list', [])  # Load loss list if available\n",
        "        return model, optimizer, start_epoch, loss, loss_list\n",
        "    else:\n",
        "        print(\"No checkpoint found.\")\n",
        "        return model, optimizer, 0, float('inf'), []\n",
        "\n",
        "# Load the checkpoint if available\n",
        "if os.path.exists(checkpoint_path):\n",
        "    model, optimizer, start_epoch, loss, loss_list = load_model_checkpoint(checkpoint_path, model, optimizer)\n",
        "    print(f\"Checkpoint found. Resuming from epoch {start_epoch}. Loss: {loss}\")\n",
        "    print(f\"Loss list from checkpoint: {loss_list}\")\n",
        "\n",
        "\n",
        "criterion = nn.CrossEntropyLoss(ignore_index=word2idx['<PAD>'])"
      ],
      "metadata": {
        "id": "ToKHQhThIrkk"
      },
      "execution_count": null,
      "outputs": []
    },
    {
      "cell_type": "code",
      "source": [
        "import torch.optim as optim\n",
        "import torch.nn.functional as F\n",
        "from tqdm import tqdm\n",
        "import os\n",
        "\n",
        "epochs = 100\n",
        "\n",
        "# Early stopping parameters\n",
        "patience = 5  # Number of epochs with no improvement before stopping\n",
        "best_loss = float('inf')\n",
        "patience_counter = 0\n",
        "\n",
        "# Directory to save the model\n",
        "save_dir = \"/content/drive/MyDrive/text_summarizer_models\"\n",
        "os.makedirs(save_dir, exist_ok=True)\n",
        "\n",
        "for epoch in range(start_epoch, epochs):\n",
        "    model.train()\n",
        "    total_loss = 0\n",
        "\n",
        "    # Using tqdm for progress bar\n",
        "    with tqdm(dataloader, unit=\"batch\") as tepoch:\n",
        "        for batch_idx, (source, target) in enumerate(tepoch):\n",
        "            # Move tensors to GPU if available\n",
        "            source = source.cuda() if torch.cuda.is_available() else source\n",
        "            target = target.cuda() if torch.cuda.is_available() else target\n",
        "\n",
        "            # Zero gradients\n",
        "            optimizer.zero_grad()\n",
        "\n",
        "            # Forward pass through the model\n",
        "            outputs = model(source, target)\n",
        "\n",
        "            outputs = outputs.view(-1, outputs.size(-1))\n",
        "            target = target.view(-1)\n",
        "            loss = criterion(outputs, target)\n",
        "\n",
        "            loss.backward()\n",
        "            optimizer.step()\n",
        "            total_loss += loss.item()\n",
        "\n",
        "            tepoch.set_postfix(loss=total_loss / (batch_idx + 1))  # Update progress bar with loss\n",
        "\n",
        "    avg_loss = total_loss / len(dataloader)\n",
        "    print(f\"Epoch [{epoch+1}/{epochs}], Loss: {avg_loss}\")\n",
        "\n",
        "    # Early stopping logic\n",
        "    if avg_loss < best_loss:\n",
        "        best_loss = avg_loss\n",
        "        patience_counter = 0\n",
        "    else:\n",
        "        patience_counter += 1\n",
        "\n",
        "    # Save model and optimizer after each epoch\n",
        "    # save_path = os.path.join(save_dir, f\"model_epoch_bigger{epoch+1}.pt\")\n",
        "    # torch.save({\n",
        "    #     'epoch': epoch + 1,\n",
        "    #     'model_state_dict': model.state_dict(),\n",
        "    #     'optimizer_state_dict': optimizer.state_dict(),\n",
        "    #     'loss': avg_loss,\n",
        "    # }, save_path)\n",
        "\n",
        "    # print(f\"Model saved to {save_path}\")\n",
        "\n",
        "    input_text = df['article'][0]\n",
        "    true_summary = df['highlights'][0]\n",
        "    print(f\"Input text: {input_text}\")\n",
        "\n",
        "    # Convert tokens back to words\n",
        "    generated_summary = generate_summary(model, input_text, word2idx, idx2word, max_length=50)\n",
        "    print(f\"True Summary: {true_summary}\")\n",
        "    print(\"Generated Summary: \", \" \".join(generated_summary))\n",
        "\n",
        "    input_text = df['article'][3]\n",
        "    true_summary = df['highlights'][3]\n",
        "    print(f\"Input text: {input_text}\")\n",
        "\n",
        "    # Convert tokens back to words\n",
        "    generated_summary = generate_summary(model, input_text, word2idx, idx2word, max_length=50)\n",
        "    print(f\"True Summary: {true_summary}\")\n",
        "    print(\"Generated Summary: \", \" \".join(generated_summary))\n",
        "\n",
        "    if patience_counter >= patience:\n",
        "        print(f\"Early stopping at epoch {epoch + 1}\")\n",
        "        break\n"
      ],
      "metadata": {
        "colab": {
          "base_uri": "https://localhost:8080/",
          "height": 1000
        },
        "id": "jRvGNy-xYi_X",
        "outputId": "cb8c8e63-2ee7-44c2-d410-d077358d0d70"
      },
      "execution_count": null,
      "outputs": [
        {
          "output_type": "stream",
          "name": "stderr",
          "text": [
            "100%|██████████| 20/20 [00:01<00:00, 11.38batch/s, loss=1.35]\n"
          ]
        },
        {
          "output_type": "stream",
          "name": "stdout",
          "text": [
            "Epoch [1/100], Loss: 1.3462130289524794\n",
            "Input text: space exploration has led to advancements in satellite technology enabling better communication weather forecasting and global navigation systems. nasa and spacex continue to innovate in this field focusing on missions to the moon and mars.\n",
            "True Summary: space exploration drives advancements in communication and navigation.\n",
            "Generated Summary:  philosophy addresses questions about existence knowledge and morality .\n",
            "Input text: the culinary arts have evolved to include molecular gastronomy where chefs use scientific techniques to create innovative dishes. this trend combines chemistry physics and artistry.\n",
            "True Summary: molecular gastronomy blends science and art to create unique dishes.\n",
            "Generated Summary:  philosophy addresses questions about existence knowledge and morality .\n"
          ]
        },
        {
          "output_type": "stream",
          "name": "stderr",
          "text": [
            "100%|██████████| 20/20 [00:01<00:00, 11.29batch/s, loss=1.22]\n"
          ]
        },
        {
          "output_type": "stream",
          "name": "stdout",
          "text": [
            "Epoch [2/100], Loss: 1.2175812836736442\n",
            "Input text: space exploration has led to advancements in satellite technology enabling better communication weather forecasting and global navigation systems. nasa and spacex continue to innovate in this field focusing on missions to the moon and mars.\n",
            "True Summary: space exploration drives advancements in communication and navigation.\n",
            "Generated Summary:  space exploration drives advancements and communication and navigation .\n",
            "Input text: the culinary arts have evolved to include molecular gastronomy where chefs use scientific techniques to create innovative dishes. this trend combines chemistry physics and artistry.\n",
            "True Summary: molecular gastronomy blends science and art to create unique dishes.\n",
            "Generated Summary:  molecular uses communication to and communication and morality .\n"
          ]
        },
        {
          "output_type": "stream",
          "name": "stderr",
          "text": [
            "100%|██████████| 20/20 [00:01<00:00, 11.20batch/s, loss=1.18]\n"
          ]
        },
        {
          "output_type": "stream",
          "name": "stdout",
          "text": [
            "Epoch [3/100], Loss: 1.1807046277448534\n",
            "Input text: space exploration has led to advancements in satellite technology enabling better communication weather forecasting and global navigation systems. nasa and spacex continue to innovate in this field focusing on missions to the moon and mars.\n",
            "True Summary: space exploration drives advancements in communication and navigation.\n",
            "Generated Summary:  philosophy addresses questions about existence knowledge and morality .\n",
            "Input text: the culinary arts have evolved to include molecular gastronomy where chefs use scientific techniques to create innovative dishes. this trend combines chemistry physics and artistry.\n",
            "True Summary: molecular gastronomy blends science and art to create unique dishes.\n",
            "Generated Summary:  philosophy addresses questions about existence knowledge and morality .\n"
          ]
        },
        {
          "output_type": "stream",
          "name": "stderr",
          "text": [
            "100%|██████████| 20/20 [00:01<00:00, 11.14batch/s, loss=1]\n"
          ]
        },
        {
          "output_type": "stream",
          "name": "stdout",
          "text": [
            "Epoch [4/100], Loss: 1.0030768154188991\n",
            "Input text: space exploration has led to advancements in satellite technology enabling better communication weather forecasting and global navigation systems. nasa and spacex continue to innovate in this field focusing on missions to the moon and mars.\n",
            "True Summary: space exploration drives advancements in communication and navigation.\n",
            "Generated Summary:  space exploration drives advancements in communication and navigation .\n",
            "Input text: the culinary arts have evolved to include molecular gastronomy where chefs use scientific techniques to create innovative dishes. this trend combines chemistry physics and artistry.\n",
            "True Summary: molecular gastronomy blends science and art to create unique dishes.\n",
            "Generated Summary:  molecular gastronomy blends science uncover art to create . dishes .\n"
          ]
        },
        {
          "output_type": "stream",
          "name": "stderr",
          "text": [
            "100%|██████████| 20/20 [00:02<00:00,  8.97batch/s, loss=0.972]\n"
          ]
        },
        {
          "output_type": "stream",
          "name": "stdout",
          "text": [
            "Epoch [5/100], Loss: 0.9718683503568173\n",
            "Input text: space exploration has led to advancements in satellite technology enabling better communication weather forecasting and global navigation systems. nasa and spacex continue to innovate in this field focusing on missions to the moon and mars.\n",
            "True Summary: space exploration drives advancements in communication and navigation.\n",
            "Generated Summary:  philosophy addresses questions about in communication and navigation .\n",
            "Input text: the culinary arts have evolved to include molecular gastronomy where chefs use scientific techniques to create innovative dishes. this trend combines chemistry physics and artistry.\n",
            "True Summary: molecular gastronomy blends science and art to create unique dishes.\n",
            "Generated Summary:  molecular gastronomy blends science in communication and navigation .\n"
          ]
        },
        {
          "output_type": "stream",
          "name": "stderr",
          "text": [
            "100%|██████████| 20/20 [00:02<00:00,  8.57batch/s, loss=1.11]\n"
          ]
        },
        {
          "output_type": "stream",
          "name": "stdout",
          "text": [
            "Epoch [6/100], Loss: 1.1129594713449478\n",
            "Input text: space exploration has led to advancements in satellite technology enabling better communication weather forecasting and global navigation systems. nasa and spacex continue to innovate in this field focusing on missions to the moon and mars.\n",
            "True Summary: space exploration drives advancements in communication and navigation.\n",
            "Generated Summary:  philosophy exploration questions about existence knowledge and navigation .\n",
            "Input text: the culinary arts have evolved to include molecular gastronomy where chefs use scientific techniques to create innovative dishes. this trend combines chemistry physics and artistry.\n",
            "True Summary: molecular gastronomy blends science and art to create unique dishes.\n",
            "Generated Summary:  molecular exploration drives science and communication and morality .\n"
          ]
        },
        {
          "output_type": "stream",
          "name": "stderr",
          "text": [
            "100%|██████████| 20/20 [00:01<00:00, 11.12batch/s, loss=1]\n"
          ]
        },
        {
          "output_type": "stream",
          "name": "stdout",
          "text": [
            "Epoch [7/100], Loss: 1.0019658856093883\n",
            "Input text: space exploration has led to advancements in satellite technology enabling better communication weather forecasting and global navigation systems. nasa and spacex continue to innovate in this field focusing on missions to the moon and mars.\n",
            "True Summary: space exploration drives advancements in communication and navigation.\n",
            "Generated Summary:  space exploration drives about existence communication and navigation .\n",
            "Input text: the culinary arts have evolved to include molecular gastronomy where chefs use scientific techniques to create innovative dishes. this trend combines chemistry physics and artistry.\n",
            "True Summary: molecular gastronomy blends science and art to create unique dishes.\n",
            "Generated Summary:  molecular gastronomy blends science uncover communication and . .\n"
          ]
        },
        {
          "output_type": "stream",
          "name": "stderr",
          "text": [
            "100%|██████████| 20/20 [00:01<00:00, 11.42batch/s, loss=0.747]\n"
          ]
        },
        {
          "output_type": "stream",
          "name": "stdout",
          "text": [
            "Epoch [8/100], Loss: 0.7469626703299582\n",
            "Input text: space exploration has led to advancements in satellite technology enabling better communication weather forecasting and global navigation systems. nasa and spacex continue to innovate in this field focusing on missions to the moon and mars.\n",
            "True Summary: space exploration drives advancements in communication and navigation.\n",
            "Generated Summary:  space exploration drives advancements in communication and navigation .\n",
            "Input text: the culinary arts have evolved to include molecular gastronomy where chefs use scientific techniques to create innovative dishes. this trend combines chemistry physics and artistry.\n",
            "True Summary: molecular gastronomy blends science and art to create unique dishes.\n",
            "Generated Summary:  archaeology uses artifacts to protects sensitive history create ancient dishes .\n"
          ]
        },
        {
          "output_type": "stream",
          "name": "stderr",
          "text": [
            "100%|██████████| 20/20 [00:01<00:00, 10.98batch/s, loss=0.587]\n"
          ]
        },
        {
          "output_type": "stream",
          "name": "stdout",
          "text": [
            "Epoch [9/100], Loss: 0.5871045357547701\n",
            "Input text: space exploration has led to advancements in satellite technology enabling better communication weather forecasting and global navigation systems. nasa and spacex continue to innovate in this field focusing on missions to the moon and mars.\n",
            "True Summary: space exploration drives advancements in communication and navigation.\n",
            "Generated Summary:  space exploration drives advancements in communication and navigation .\n",
            "Input text: the culinary arts have evolved to include molecular gastronomy where chefs use scientific techniques to create innovative dishes. this trend combines chemistry physics and artistry.\n",
            "True Summary: molecular gastronomy blends science and art to create unique dishes.\n",
            "Generated Summary:  molecular gastronomy blends science and art to create unique dishes .\n"
          ]
        },
        {
          "output_type": "stream",
          "name": "stderr",
          "text": [
            "100%|██████████| 20/20 [00:01<00:00, 11.03batch/s, loss=0.854]\n"
          ]
        },
        {
          "output_type": "stream",
          "name": "stdout",
          "text": [
            "Epoch [10/100], Loss: 0.8542285273782909\n",
            "Input text: space exploration has led to advancements in satellite technology enabling better communication weather forecasting and global navigation systems. nasa and spacex continue to innovate in this field focusing on missions to the moon and mars.\n",
            "True Summary: space exploration drives advancements in communication and navigation.\n",
            "Generated Summary:  molecular gastronomy blends science uncover art to create unique dishes .\n",
            "Input text: the culinary arts have evolved to include molecular gastronomy where chefs use scientific techniques to create innovative dishes. this trend combines chemistry physics and artistry.\n",
            "True Summary: molecular gastronomy blends science and art to create unique dishes.\n",
            "Generated Summary:  molecular gastronomy blends science uncover art to create unique dishes .\n"
          ]
        },
        {
          "output_type": "stream",
          "name": "stderr",
          "text": [
            "100%|██████████| 20/20 [00:01<00:00, 11.10batch/s, loss=0.722]\n"
          ]
        },
        {
          "output_type": "stream",
          "name": "stdout",
          "text": [
            "Epoch [11/100], Loss: 0.7216908830218017\n",
            "Input text: space exploration has led to advancements in satellite technology enabling better communication weather forecasting and global navigation systems. nasa and spacex continue to innovate in this field focusing on missions to the moon and mars.\n",
            "True Summary: space exploration drives advancements in communication and navigation.\n",
            "Generated Summary:  philosophy addresses questions about in knowledge and morality .\n",
            "Input text: the culinary arts have evolved to include molecular gastronomy where chefs use scientific techniques to create innovative dishes. this trend combines chemistry physics and artistry.\n",
            "True Summary: molecular gastronomy blends science and art to create unique dishes.\n",
            "Generated Summary:  molecular gastronomy questions advancements in communication and morality .\n"
          ]
        },
        {
          "output_type": "stream",
          "name": "stderr",
          "text": [
            "100%|██████████| 20/20 [00:02<00:00,  8.04batch/s, loss=0.61]\n"
          ]
        },
        {
          "output_type": "stream",
          "name": "stdout",
          "text": [
            "Epoch [12/100], Loss: 0.6102690584026277\n",
            "Input text: space exploration has led to advancements in satellite technology enabling better communication weather forecasting and global navigation systems. nasa and spacex continue to innovate in this field focusing on missions to the moon and mars.\n",
            "True Summary: space exploration drives advancements in communication and navigation.\n",
            "Generated Summary:  philosophy addresses questions about existence communication and morality . dishes .\n",
            "Input text: the culinary arts have evolved to include molecular gastronomy where chefs use scientific techniques to create innovative dishes. this trend combines chemistry physics and artistry.\n",
            "True Summary: molecular gastronomy blends science and art to create unique dishes.\n",
            "Generated Summary:  molecular addresses blends about existence art and create unique dishes .\n"
          ]
        },
        {
          "output_type": "stream",
          "name": "stderr",
          "text": [
            "100%|██████████| 20/20 [00:02<00:00,  9.43batch/s, loss=0.501]\n"
          ]
        },
        {
          "output_type": "stream",
          "name": "stdout",
          "text": [
            "Epoch [13/100], Loss: 0.5010022037662566\n",
            "Input text: space exploration has led to advancements in satellite technology enabling better communication weather forecasting and global navigation systems. nasa and spacex continue to innovate in this field focusing on missions to the moon and mars.\n",
            "True Summary: space exploration drives advancements in communication and navigation.\n",
            "Generated Summary:  philosophy addresses questions about existence knowledge and morality .\n",
            "Input text: the culinary arts have evolved to include molecular gastronomy where chefs use scientific techniques to create innovative dishes. this trend combines chemistry physics and artistry.\n",
            "True Summary: molecular gastronomy blends science and art to create unique dishes.\n",
            "Generated Summary:  molecular gastronomy blends science and art to create unique dishes .\n"
          ]
        },
        {
          "output_type": "stream",
          "name": "stderr",
          "text": [
            "100%|██████████| 20/20 [00:01<00:00, 10.98batch/s, loss=0.7]\n"
          ]
        },
        {
          "output_type": "stream",
          "name": "stdout",
          "text": [
            "Epoch [14/100], Loss: 0.6996268158778548\n",
            "Input text: space exploration has led to advancements in satellite technology enabling better communication weather forecasting and global navigation systems. nasa and spacex continue to innovate in this field focusing on missions to the moon and mars.\n",
            "True Summary: space exploration drives advancements in communication and navigation.\n",
            "Generated Summary:  space exploration drives advancements in communication and navigation .\n",
            "Input text: the culinary arts have evolved to include molecular gastronomy where chefs use scientific techniques to create innovative dishes. this trend combines chemistry physics and artistry.\n",
            "True Summary: molecular gastronomy blends science and art to create unique dishes.\n",
            "Generated Summary:  molecular gastronomy blends science and art to create unique\n"
          ]
        },
        {
          "output_type": "stream",
          "name": "stderr",
          "text": [
            "100%|██████████| 20/20 [00:01<00:00, 10.83batch/s, loss=0.363]\n"
          ]
        },
        {
          "output_type": "stream",
          "name": "stdout",
          "text": [
            "Epoch [15/100], Loss: 0.36290483037009835\n",
            "Input text: space exploration has led to advancements in satellite technology enabling better communication weather forecasting and global navigation systems. nasa and spacex continue to innovate in this field focusing on missions to the moon and mars.\n",
            "True Summary: space exploration drives advancements in communication and navigation.\n",
            "Generated Summary:  space addresses questions advancements in communication and navigation .\n",
            "Input text: the culinary arts have evolved to include molecular gastronomy where chefs use scientific techniques to create innovative dishes. this trend combines chemistry physics and artistry.\n",
            "True Summary: molecular gastronomy blends science and art to create unique dishes.\n",
            "Generated Summary:  molecular gastronomy blends science and art history create ancient dishes .\n"
          ]
        },
        {
          "output_type": "stream",
          "name": "stderr",
          "text": [
            "100%|██████████| 20/20 [00:01<00:00, 11.05batch/s, loss=0.29]\n"
          ]
        },
        {
          "output_type": "stream",
          "name": "stdout",
          "text": [
            "Epoch [16/100], Loss: 0.28955138684250414\n",
            "Input text: space exploration has led to advancements in satellite technology enabling better communication weather forecasting and global navigation systems. nasa and spacex continue to innovate in this field focusing on missions to the moon and mars.\n",
            "True Summary: space exploration drives advancements in communication and navigation.\n",
            "Generated Summary:  space exploration drives advancements in communication and navigation .\n",
            "Input text: the culinary arts have evolved to include molecular gastronomy where chefs use scientific techniques to create innovative dishes. this trend combines chemistry physics and artistry.\n",
            "True Summary: molecular gastronomy blends science and art to create unique dishes.\n",
            "Generated Summary:  molecular gastronomy blends science and art to create unique dishes .\n"
          ]
        },
        {
          "output_type": "stream",
          "name": "stderr",
          "text": [
            "100%|██████████| 20/20 [00:01<00:00, 10.95batch/s, loss=0.189]\n"
          ]
        },
        {
          "output_type": "stream",
          "name": "stdout",
          "text": [
            "Epoch [17/100], Loss: 0.18899637018330395\n",
            "Input text: space exploration has led to advancements in satellite technology enabling better communication weather forecasting and global navigation systems. nasa and spacex continue to innovate in this field focusing on missions to the moon and mars.\n",
            "True Summary: space exploration drives advancements in communication and navigation.\n",
            "Generated Summary:  space exploration drives advancements in communication and navigation .\n",
            "Input text: the culinary arts have evolved to include molecular gastronomy where chefs use scientific techniques to create innovative dishes. this trend combines chemistry physics and artistry.\n",
            "True Summary: molecular gastronomy blends science and art to create unique dishes.\n",
            "Generated Summary:  molecular gastronomy blends science and art to create unique dishes .\n"
          ]
        },
        {
          "output_type": "stream",
          "name": "stderr",
          "text": [
            "100%|██████████| 20/20 [00:02<00:00,  9.54batch/s, loss=0.125]\n"
          ]
        },
        {
          "output_type": "stream",
          "name": "stdout",
          "text": [
            "Epoch [18/100], Loss: 0.12513458235189318\n",
            "Input text: space exploration has led to advancements in satellite technology enabling better communication weather forecasting and global navigation systems. nasa and spacex continue to innovate in this field focusing on missions to the moon and mars.\n",
            "True Summary: space exploration drives advancements in communication and navigation.\n",
            "Generated Summary:  space exploration drives advancements in communication and navigation .\n",
            "Input text: the culinary arts have evolved to include molecular gastronomy where chefs use scientific techniques to create innovative dishes. this trend combines chemistry physics and artistry.\n",
            "True Summary: molecular gastronomy blends science and art to create unique dishes.\n",
            "Generated Summary:  molecular gastronomy blends science and art to create unique dishes .\n"
          ]
        },
        {
          "output_type": "stream",
          "name": "stderr",
          "text": [
            "100%|██████████| 20/20 [00:02<00:00,  7.81batch/s, loss=0.0889]\n"
          ]
        },
        {
          "output_type": "stream",
          "name": "stdout",
          "text": [
            "Epoch [19/100], Loss: 0.08887091563083231\n",
            "Input text: space exploration has led to advancements in satellite technology enabling better communication weather forecasting and global navigation systems. nasa and spacex continue to innovate in this field focusing on missions to the moon and mars.\n",
            "True Summary: space exploration drives advancements in communication and navigation.\n",
            "Generated Summary:  space exploration drives advancements in communication and navigation .\n",
            "Input text: the culinary arts have evolved to include molecular gastronomy where chefs use scientific techniques to create innovative dishes. this trend combines chemistry physics and artistry.\n",
            "True Summary: molecular gastronomy blends science and art to create unique dishes.\n",
            "Generated Summary:  molecular gastronomy blends science and art to create unique dishes .\n"
          ]
        },
        {
          "output_type": "stream",
          "name": "stderr",
          "text": [
            "100%|██████████| 20/20 [00:01<00:00, 11.18batch/s, loss=0.0673]\n"
          ]
        },
        {
          "output_type": "stream",
          "name": "stdout",
          "text": [
            "Epoch [20/100], Loss: 0.06727633629925549\n",
            "Input text: space exploration has led to advancements in satellite technology enabling better communication weather forecasting and global navigation systems. nasa and spacex continue to innovate in this field focusing on missions to the moon and mars.\n",
            "True Summary: space exploration drives advancements in communication and navigation.\n",
            "Generated Summary:  space exploration drives advancements in communication and navigation .\n",
            "Input text: the culinary arts have evolved to include molecular gastronomy where chefs use scientific techniques to create innovative dishes. this trend combines chemistry physics and artistry.\n",
            "True Summary: molecular gastronomy blends science and art to create unique dishes.\n",
            "Generated Summary:  molecular gastronomy blends science and art to create unique dishes .\n"
          ]
        },
        {
          "output_type": "stream",
          "name": "stderr",
          "text": [
            "100%|██████████| 20/20 [00:01<00:00, 11.07batch/s, loss=0.058]\n"
          ]
        },
        {
          "output_type": "stream",
          "name": "stdout",
          "text": [
            "Epoch [21/100], Loss: 0.05803080042824149\n",
            "Input text: space exploration has led to advancements in satellite technology enabling better communication weather forecasting and global navigation systems. nasa and spacex continue to innovate in this field focusing on missions to the moon and mars.\n",
            "True Summary: space exploration drives advancements in communication and navigation.\n",
            "Generated Summary:  space exploration drives advancements in communication and navigation .\n",
            "Input text: the culinary arts have evolved to include molecular gastronomy where chefs use scientific techniques to create innovative dishes. this trend combines chemistry physics and artistry.\n",
            "True Summary: molecular gastronomy blends science and art to create unique dishes.\n",
            "Generated Summary:  molecular gastronomy blends science and art to create unique dishes .\n"
          ]
        },
        {
          "output_type": "stream",
          "name": "stderr",
          "text": [
            "100%|██████████| 20/20 [00:01<00:00, 11.28batch/s, loss=0.0425]\n"
          ]
        },
        {
          "output_type": "stream",
          "name": "stdout",
          "text": [
            "Epoch [22/100], Loss: 0.042470524180680515\n",
            "Input text: space exploration has led to advancements in satellite technology enabling better communication weather forecasting and global navigation systems. nasa and spacex continue to innovate in this field focusing on missions to the moon and mars.\n",
            "True Summary: space exploration drives advancements in communication and navigation.\n",
            "Generated Summary:  space exploration drives advancements in communication and navigation .\n",
            "Input text: the culinary arts have evolved to include molecular gastronomy where chefs use scientific techniques to create innovative dishes. this trend combines chemistry physics and artistry.\n",
            "True Summary: molecular gastronomy blends science and art to create unique dishes.\n",
            "Generated Summary:  molecular gastronomy blends science and art to create unique dishes .\n"
          ]
        },
        {
          "output_type": "stream",
          "name": "stderr",
          "text": [
            "100%|██████████| 20/20 [00:01<00:00, 11.36batch/s, loss=0.0343]\n"
          ]
        },
        {
          "output_type": "stream",
          "name": "stdout",
          "text": [
            "Epoch [23/100], Loss: 0.03427151266951114\n",
            "Input text: space exploration has led to advancements in satellite technology enabling better communication weather forecasting and global navigation systems. nasa and spacex continue to innovate in this field focusing on missions to the moon and mars.\n",
            "True Summary: space exploration drives advancements in communication and navigation.\n",
            "Generated Summary:  space exploration drives advancements in communication and navigation .\n",
            "Input text: the culinary arts have evolved to include molecular gastronomy where chefs use scientific techniques to create innovative dishes. this trend combines chemistry physics and artistry.\n",
            "True Summary: molecular gastronomy blends science and art to create unique dishes.\n",
            "Generated Summary:  molecular gastronomy blends science and art to create unique dishes .\n"
          ]
        },
        {
          "output_type": "stream",
          "name": "stderr",
          "text": [
            "100%|██████████| 20/20 [00:01<00:00, 11.07batch/s, loss=0.0285]\n"
          ]
        },
        {
          "output_type": "stream",
          "name": "stdout",
          "text": [
            "Epoch [24/100], Loss: 0.02854096523951739\n",
            "Input text: space exploration has led to advancements in satellite technology enabling better communication weather forecasting and global navigation systems. nasa and spacex continue to innovate in this field focusing on missions to the moon and mars.\n",
            "True Summary: space exploration drives advancements in communication and navigation.\n",
            "Generated Summary:  space exploration drives advancements in communication and navigation .\n",
            "Input text: the culinary arts have evolved to include molecular gastronomy where chefs use scientific techniques to create innovative dishes. this trend combines chemistry physics and artistry.\n",
            "True Summary: molecular gastronomy blends science and art to create unique dishes.\n",
            "Generated Summary:  molecular gastronomy blends science and art to create unique dishes .\n"
          ]
        },
        {
          "output_type": "stream",
          "name": "stderr",
          "text": [
            "100%|██████████| 20/20 [00:02<00:00,  8.54batch/s, loss=0.0259]\n"
          ]
        },
        {
          "output_type": "stream",
          "name": "stdout",
          "text": [
            "Epoch [25/100], Loss: 0.025904499157331885\n",
            "Input text: space exploration has led to advancements in satellite technology enabling better communication weather forecasting and global navigation systems. nasa and spacex continue to innovate in this field focusing on missions to the moon and mars.\n",
            "True Summary: space exploration drives advancements in communication and navigation.\n",
            "Generated Summary:  space exploration drives advancements in communication and navigation .\n",
            "Input text: the culinary arts have evolved to include molecular gastronomy where chefs use scientific techniques to create innovative dishes. this trend combines chemistry physics and artistry.\n",
            "True Summary: molecular gastronomy blends science and art to create unique dishes.\n",
            "Generated Summary:  molecular gastronomy blends science and art to create unique dishes .\n"
          ]
        },
        {
          "output_type": "stream",
          "name": "stderr",
          "text": [
            "100%|██████████| 20/20 [00:02<00:00,  8.24batch/s, loss=0.0207]\n"
          ]
        },
        {
          "output_type": "stream",
          "name": "stdout",
          "text": [
            "Epoch [26/100], Loss: 0.02073070821352303\n",
            "Input text: space exploration has led to advancements in satellite technology enabling better communication weather forecasting and global navigation systems. nasa and spacex continue to innovate in this field focusing on missions to the moon and mars.\n",
            "True Summary: space exploration drives advancements in communication and navigation.\n",
            "Generated Summary:  space exploration drives advancements in communication and navigation .\n",
            "Input text: the culinary arts have evolved to include molecular gastronomy where chefs use scientific techniques to create innovative dishes. this trend combines chemistry physics and artistry.\n",
            "True Summary: molecular gastronomy blends science and art to create unique dishes.\n",
            "Generated Summary:  molecular gastronomy blends science and art to create unique dishes .\n"
          ]
        },
        {
          "output_type": "stream",
          "name": "stderr",
          "text": [
            "100%|██████████| 20/20 [00:01<00:00, 11.09batch/s, loss=0.0183]\n"
          ]
        },
        {
          "output_type": "stream",
          "name": "stdout",
          "text": [
            "Epoch [27/100], Loss: 0.01832386045716703\n",
            "Input text: space exploration has led to advancements in satellite technology enabling better communication weather forecasting and global navigation systems. nasa and spacex continue to innovate in this field focusing on missions to the moon and mars.\n",
            "True Summary: space exploration drives advancements in communication and navigation.\n",
            "Generated Summary:  space exploration drives advancements in communication and navigation .\n",
            "Input text: the culinary arts have evolved to include molecular gastronomy where chefs use scientific techniques to create innovative dishes. this trend combines chemistry physics and artistry.\n",
            "True Summary: molecular gastronomy blends science and art to create unique dishes.\n",
            "Generated Summary:  molecular gastronomy blends science and art to create unique dishes .\n"
          ]
        },
        {
          "output_type": "stream",
          "name": "stderr",
          "text": [
            "100%|██████████| 20/20 [00:01<00:00, 11.10batch/s, loss=0.0165]\n"
          ]
        },
        {
          "output_type": "stream",
          "name": "stdout",
          "text": [
            "Epoch [28/100], Loss: 0.016533614369109273\n",
            "Input text: space exploration has led to advancements in satellite technology enabling better communication weather forecasting and global navigation systems. nasa and spacex continue to innovate in this field focusing on missions to the moon and mars.\n",
            "True Summary: space exploration drives advancements in communication and navigation.\n",
            "Generated Summary:  space exploration drives advancements in communication and navigation .\n",
            "Input text: the culinary arts have evolved to include molecular gastronomy where chefs use scientific techniques to create innovative dishes. this trend combines chemistry physics and artistry.\n",
            "True Summary: molecular gastronomy blends science and art to create unique dishes.\n",
            "Generated Summary:  molecular gastronomy blends science and art to create unique dishes .\n"
          ]
        },
        {
          "output_type": "stream",
          "name": "stderr",
          "text": [
            "100%|██████████| 20/20 [00:01<00:00, 10.96batch/s, loss=0.0144]\n"
          ]
        },
        {
          "output_type": "stream",
          "name": "stdout",
          "text": [
            "Epoch [29/100], Loss: 0.014385378826409579\n",
            "Input text: space exploration has led to advancements in satellite technology enabling better communication weather forecasting and global navigation systems. nasa and spacex continue to innovate in this field focusing on missions to the moon and mars.\n",
            "True Summary: space exploration drives advancements in communication and navigation.\n",
            "Generated Summary:  space exploration drives advancements in communication and navigation .\n",
            "Input text: the culinary arts have evolved to include molecular gastronomy where chefs use scientific techniques to create innovative dishes. this trend combines chemistry physics and artistry.\n",
            "True Summary: molecular gastronomy blends science and art to create unique dishes.\n",
            "Generated Summary:  molecular gastronomy blends science and art to create unique dishes .\n"
          ]
        },
        {
          "output_type": "stream",
          "name": "stderr",
          "text": [
            "100%|██████████| 20/20 [00:01<00:00, 10.84batch/s, loss=0.0126]\n"
          ]
        },
        {
          "output_type": "stream",
          "name": "stdout",
          "text": [
            "Epoch [30/100], Loss: 0.01262420283164829\n",
            "Input text: space exploration has led to advancements in satellite technology enabling better communication weather forecasting and global navigation systems. nasa and spacex continue to innovate in this field focusing on missions to the moon and mars.\n",
            "True Summary: space exploration drives advancements in communication and navigation.\n",
            "Generated Summary:  space exploration drives advancements in communication and navigation .\n",
            "Input text: the culinary arts have evolved to include molecular gastronomy where chefs use scientific techniques to create innovative dishes. this trend combines chemistry physics and artistry.\n",
            "True Summary: molecular gastronomy blends science and art to create unique dishes.\n",
            "Generated Summary:  molecular gastronomy blends science and art to create unique dishes .\n"
          ]
        },
        {
          "output_type": "stream",
          "name": "stderr",
          "text": [
            "100%|██████████| 20/20 [00:01<00:00, 11.17batch/s, loss=0.0113]\n"
          ]
        },
        {
          "output_type": "stream",
          "name": "stdout",
          "text": [
            "Epoch [31/100], Loss: 0.011346309469081462\n",
            "Input text: space exploration has led to advancements in satellite technology enabling better communication weather forecasting and global navigation systems. nasa and spacex continue to innovate in this field focusing on missions to the moon and mars.\n",
            "True Summary: space exploration drives advancements in communication and navigation.\n",
            "Generated Summary:  space exploration drives advancements in communication and navigation .\n",
            "Input text: the culinary arts have evolved to include molecular gastronomy where chefs use scientific techniques to create innovative dishes. this trend combines chemistry physics and artistry.\n",
            "True Summary: molecular gastronomy blends science and art to create unique dishes.\n",
            "Generated Summary:  molecular gastronomy blends science and art to create unique dishes .\n"
          ]
        },
        {
          "output_type": "stream",
          "name": "stderr",
          "text": [
            "100%|██████████| 20/20 [00:02<00:00,  7.71batch/s, loss=0.0104]\n"
          ]
        },
        {
          "output_type": "stream",
          "name": "stdout",
          "text": [
            "Epoch [32/100], Loss: 0.010409894725307822\n",
            "Input text: space exploration has led to advancements in satellite technology enabling better communication weather forecasting and global navigation systems. nasa and spacex continue to innovate in this field focusing on missions to the moon and mars.\n",
            "True Summary: space exploration drives advancements in communication and navigation.\n",
            "Generated Summary:  space exploration drives advancements in communication and navigation .\n",
            "Input text: the culinary arts have evolved to include molecular gastronomy where chefs use scientific techniques to create innovative dishes. this trend combines chemistry physics and artistry.\n",
            "True Summary: molecular gastronomy blends science and art to create unique dishes.\n",
            "Generated Summary:  molecular gastronomy blends science and art to create unique dishes .\n"
          ]
        },
        {
          "output_type": "stream",
          "name": "stderr",
          "text": [
            "100%|██████████| 20/20 [00:02<00:00,  9.65batch/s, loss=0.00949]\n"
          ]
        },
        {
          "output_type": "stream",
          "name": "stdout",
          "text": [
            "Epoch [33/100], Loss: 0.009494906547479332\n",
            "Input text: space exploration has led to advancements in satellite technology enabling better communication weather forecasting and global navigation systems. nasa and spacex continue to innovate in this field focusing on missions to the moon and mars.\n",
            "True Summary: space exploration drives advancements in communication and navigation.\n",
            "Generated Summary:  space exploration drives advancements in communication and navigation .\n",
            "Input text: the culinary arts have evolved to include molecular gastronomy where chefs use scientific techniques to create innovative dishes. this trend combines chemistry physics and artistry.\n",
            "True Summary: molecular gastronomy blends science and art to create unique dishes.\n",
            "Generated Summary:  molecular gastronomy blends science and art to create unique dishes .\n"
          ]
        },
        {
          "output_type": "stream",
          "name": "stderr",
          "text": [
            "100%|██████████| 20/20 [00:01<00:00, 11.22batch/s, loss=0.00881]\n"
          ]
        },
        {
          "output_type": "stream",
          "name": "stdout",
          "text": [
            "Epoch [34/100], Loss: 0.008806327660568058\n",
            "Input text: space exploration has led to advancements in satellite technology enabling better communication weather forecasting and global navigation systems. nasa and spacex continue to innovate in this field focusing on missions to the moon and mars.\n",
            "True Summary: space exploration drives advancements in communication and navigation.\n",
            "Generated Summary:  space exploration drives advancements in communication and navigation .\n",
            "Input text: the culinary arts have evolved to include molecular gastronomy where chefs use scientific techniques to create innovative dishes. this trend combines chemistry physics and artistry.\n",
            "True Summary: molecular gastronomy blends science and art to create unique dishes.\n",
            "Generated Summary:  molecular gastronomy blends science and art to create unique dishes .\n"
          ]
        },
        {
          "output_type": "stream",
          "name": "stderr",
          "text": [
            "100%|██████████| 20/20 [00:01<00:00, 11.23batch/s, loss=0.0081]\n"
          ]
        },
        {
          "output_type": "stream",
          "name": "stdout",
          "text": [
            "Epoch [35/100], Loss: 0.008104906987864525\n",
            "Input text: space exploration has led to advancements in satellite technology enabling better communication weather forecasting and global navigation systems. nasa and spacex continue to innovate in this field focusing on missions to the moon and mars.\n",
            "True Summary: space exploration drives advancements in communication and navigation.\n",
            "Generated Summary:  space exploration drives advancements in communication and navigation .\n",
            "Input text: the culinary arts have evolved to include molecular gastronomy where chefs use scientific techniques to create innovative dishes. this trend combines chemistry physics and artistry.\n",
            "True Summary: molecular gastronomy blends science and art to create unique dishes.\n",
            "Generated Summary:  molecular gastronomy blends science and art to create unique dishes .\n"
          ]
        },
        {
          "output_type": "stream",
          "name": "stderr",
          "text": [
            "100%|██████████| 20/20 [00:01<00:00, 11.03batch/s, loss=0.00757]\n"
          ]
        },
        {
          "output_type": "stream",
          "name": "stdout",
          "text": [
            "Epoch [36/100], Loss: 0.007571809820365161\n",
            "Input text: space exploration has led to advancements in satellite technology enabling better communication weather forecasting and global navigation systems. nasa and spacex continue to innovate in this field focusing on missions to the moon and mars.\n",
            "True Summary: space exploration drives advancements in communication and navigation.\n",
            "Generated Summary:  space exploration drives advancements in communication and navigation .\n",
            "Input text: the culinary arts have evolved to include molecular gastronomy where chefs use scientific techniques to create innovative dishes. this trend combines chemistry physics and artistry.\n",
            "True Summary: molecular gastronomy blends science and art to create unique dishes.\n",
            "Generated Summary:  molecular gastronomy blends science and art to create unique dishes .\n"
          ]
        },
        {
          "output_type": "stream",
          "name": "stderr",
          "text": [
            "100%|██████████| 20/20 [00:01<00:00, 11.16batch/s, loss=0.00707]\n"
          ]
        },
        {
          "output_type": "stream",
          "name": "stdout",
          "text": [
            "Epoch [37/100], Loss: 0.00707318055210635\n",
            "Input text: space exploration has led to advancements in satellite technology enabling better communication weather forecasting and global navigation systems. nasa and spacex continue to innovate in this field focusing on missions to the moon and mars.\n",
            "True Summary: space exploration drives advancements in communication and navigation.\n",
            "Generated Summary:  space exploration drives advancements in communication and navigation .\n",
            "Input text: the culinary arts have evolved to include molecular gastronomy where chefs use scientific techniques to create innovative dishes. this trend combines chemistry physics and artistry.\n",
            "True Summary: molecular gastronomy blends science and art to create unique dishes.\n",
            "Generated Summary:  molecular gastronomy blends science and art to create unique dishes .\n"
          ]
        },
        {
          "output_type": "stream",
          "name": "stderr",
          "text": [
            "100%|██████████| 20/20 [00:02<00:00,  9.79batch/s, loss=0.00666]\n"
          ]
        },
        {
          "output_type": "stream",
          "name": "stdout",
          "text": [
            "Epoch [38/100], Loss: 0.006655256648082286\n",
            "Input text: space exploration has led to advancements in satellite technology enabling better communication weather forecasting and global navigation systems. nasa and spacex continue to innovate in this field focusing on missions to the moon and mars.\n",
            "True Summary: space exploration drives advancements in communication and navigation.\n",
            "Generated Summary:  space exploration drives advancements in communication and navigation .\n",
            "Input text: the culinary arts have evolved to include molecular gastronomy where chefs use scientific techniques to create innovative dishes. this trend combines chemistry physics and artistry.\n",
            "True Summary: molecular gastronomy blends science and art to create unique dishes.\n",
            "Generated Summary:  molecular gastronomy blends science and art to create unique dishes .\n"
          ]
        },
        {
          "output_type": "stream",
          "name": "stderr",
          "text": [
            "100%|██████████| 20/20 [00:02<00:00,  7.63batch/s, loss=0.00623]\n"
          ]
        },
        {
          "output_type": "stream",
          "name": "stdout",
          "text": [
            "Epoch [39/100], Loss: 0.006232036673463881\n",
            "Input text: space exploration has led to advancements in satellite technology enabling better communication weather forecasting and global navigation systems. nasa and spacex continue to innovate in this field focusing on missions to the moon and mars.\n",
            "True Summary: space exploration drives advancements in communication and navigation.\n",
            "Generated Summary:  space exploration drives advancements in communication and navigation .\n",
            "Input text: the culinary arts have evolved to include molecular gastronomy where chefs use scientific techniques to create innovative dishes. this trend combines chemistry physics and artistry.\n",
            "True Summary: molecular gastronomy blends science and art to create unique dishes.\n",
            "Generated Summary:  molecular gastronomy blends science and art to create unique dishes .\n"
          ]
        },
        {
          "output_type": "stream",
          "name": "stderr",
          "text": [
            "100%|██████████| 20/20 [00:01<00:00, 11.17batch/s, loss=0.00582]\n"
          ]
        },
        {
          "output_type": "stream",
          "name": "stdout",
          "text": [
            "Epoch [40/100], Loss: 0.00581705697113648\n",
            "Input text: space exploration has led to advancements in satellite technology enabling better communication weather forecasting and global navigation systems. nasa and spacex continue to innovate in this field focusing on missions to the moon and mars.\n",
            "True Summary: space exploration drives advancements in communication and navigation.\n",
            "Generated Summary:  space exploration drives advancements in communication and navigation .\n",
            "Input text: the culinary arts have evolved to include molecular gastronomy where chefs use scientific techniques to create innovative dishes. this trend combines chemistry physics and artistry.\n",
            "True Summary: molecular gastronomy blends science and art to create unique dishes.\n",
            "Generated Summary:  molecular gastronomy blends science and art to create unique dishes .\n"
          ]
        },
        {
          "output_type": "stream",
          "name": "stderr",
          "text": [
            "100%|██████████| 20/20 [00:01<00:00, 11.18batch/s, loss=0.00549]\n"
          ]
        },
        {
          "output_type": "stream",
          "name": "stdout",
          "text": [
            "Epoch [41/100], Loss: 0.0054889865918084976\n",
            "Input text: space exploration has led to advancements in satellite technology enabling better communication weather forecasting and global navigation systems. nasa and spacex continue to innovate in this field focusing on missions to the moon and mars.\n",
            "True Summary: space exploration drives advancements in communication and navigation.\n",
            "Generated Summary:  space exploration drives advancements in communication and navigation .\n",
            "Input text: the culinary arts have evolved to include molecular gastronomy where chefs use scientific techniques to create innovative dishes. this trend combines chemistry physics and artistry.\n",
            "True Summary: molecular gastronomy blends science and art to create unique dishes.\n",
            "Generated Summary:  molecular gastronomy blends science and art to create unique dishes .\n"
          ]
        },
        {
          "output_type": "stream",
          "name": "stderr",
          "text": [
            "100%|██████████| 20/20 [00:01<00:00, 10.75batch/s, loss=0.00521]\n"
          ]
        },
        {
          "output_type": "stream",
          "name": "stdout",
          "text": [
            "Epoch [42/100], Loss: 0.005207390035502612\n",
            "Input text: space exploration has led to advancements in satellite technology enabling better communication weather forecasting and global navigation systems. nasa and spacex continue to innovate in this field focusing on missions to the moon and mars.\n",
            "True Summary: space exploration drives advancements in communication and navigation.\n",
            "Generated Summary:  space exploration drives advancements in communication and navigation .\n",
            "Input text: the culinary arts have evolved to include molecular gastronomy where chefs use scientific techniques to create innovative dishes. this trend combines chemistry physics and artistry.\n",
            "True Summary: molecular gastronomy blends science and art to create unique dishes.\n",
            "Generated Summary:  molecular gastronomy blends science and art to create unique dishes .\n"
          ]
        },
        {
          "output_type": "stream",
          "name": "stderr",
          "text": [
            "100%|██████████| 20/20 [00:01<00:00, 10.94batch/s, loss=0.00493]\n"
          ]
        },
        {
          "output_type": "stream",
          "name": "stdout",
          "text": [
            "Epoch [43/100], Loss: 0.004931161657441408\n",
            "Input text: space exploration has led to advancements in satellite technology enabling better communication weather forecasting and global navigation systems. nasa and spacex continue to innovate in this field focusing on missions to the moon and mars.\n",
            "True Summary: space exploration drives advancements in communication and navigation.\n",
            "Generated Summary:  space exploration drives advancements in communication and navigation .\n",
            "Input text: the culinary arts have evolved to include molecular gastronomy where chefs use scientific techniques to create innovative dishes. this trend combines chemistry physics and artistry.\n",
            "True Summary: molecular gastronomy blends science and art to create unique dishes.\n",
            "Generated Summary:  molecular gastronomy blends science and art to create unique dishes .\n"
          ]
        },
        {
          "output_type": "stream",
          "name": "stderr",
          "text": [
            "100%|██████████| 20/20 [00:01<00:00, 10.78batch/s, loss=0.00468]\n"
          ]
        },
        {
          "output_type": "stream",
          "name": "stdout",
          "text": [
            "Epoch [44/100], Loss: 0.00468356158817187\n",
            "Input text: space exploration has led to advancements in satellite technology enabling better communication weather forecasting and global navigation systems. nasa and spacex continue to innovate in this field focusing on missions to the moon and mars.\n",
            "True Summary: space exploration drives advancements in communication and navigation.\n",
            "Generated Summary:  space exploration drives advancements in communication and navigation .\n",
            "Input text: the culinary arts have evolved to include molecular gastronomy where chefs use scientific techniques to create innovative dishes. this trend combines chemistry physics and artistry.\n",
            "True Summary: molecular gastronomy blends science and art to create unique dishes.\n",
            "Generated Summary:  molecular gastronomy blends science and art to create unique dishes .\n"
          ]
        },
        {
          "output_type": "stream",
          "name": "stderr",
          "text": [
            "100%|██████████| 20/20 [00:02<00:00,  8.61batch/s, loss=0.00446]\n"
          ]
        },
        {
          "output_type": "stream",
          "name": "stdout",
          "text": [
            "Epoch [45/100], Loss: 0.004458143212832511\n",
            "Input text: space exploration has led to advancements in satellite technology enabling better communication weather forecasting and global navigation systems. nasa and spacex continue to innovate in this field focusing on missions to the moon and mars.\n",
            "True Summary: space exploration drives advancements in communication and navigation.\n",
            "Generated Summary:  space exploration drives advancements in communication and navigation .\n",
            "Input text: the culinary arts have evolved to include molecular gastronomy where chefs use scientific techniques to create innovative dishes. this trend combines chemistry physics and artistry.\n",
            "True Summary: molecular gastronomy blends science and art to create unique dishes.\n",
            "Generated Summary:  molecular gastronomy blends science and art to create unique dishes .\n"
          ]
        },
        {
          "output_type": "stream",
          "name": "stderr",
          "text": [
            " 40%|████      | 8/20 [00:01<00:01,  6.80batch/s, loss=0.00387]\n"
          ]
        },
        {
          "output_type": "error",
          "ename": "KeyboardInterrupt",
          "evalue": "",
          "traceback": [
            "\u001b[0;31m---------------------------------------------------------------------------\u001b[0m",
            "\u001b[0;31mKeyboardInterrupt\u001b[0m                         Traceback (most recent call last)",
            "\u001b[0;32m<ipython-input-52-a5bbfb43d04a>\u001b[0m in \u001b[0;36m<cell line: 17>\u001b[0;34m()\u001b[0m\n\u001b[1;32m     36\u001b[0m             \u001b[0mloss\u001b[0m \u001b[0;34m=\u001b[0m \u001b[0mcriterion\u001b[0m\u001b[0;34m(\u001b[0m\u001b[0moutputs\u001b[0m\u001b[0;34m,\u001b[0m \u001b[0mtarget\u001b[0m\u001b[0;34m)\u001b[0m\u001b[0;34m\u001b[0m\u001b[0;34m\u001b[0m\u001b[0m\n\u001b[1;32m     37\u001b[0m \u001b[0;34m\u001b[0m\u001b[0m\n\u001b[0;32m---> 38\u001b[0;31m             \u001b[0mloss\u001b[0m\u001b[0;34m.\u001b[0m\u001b[0mbackward\u001b[0m\u001b[0;34m(\u001b[0m\u001b[0;34m)\u001b[0m\u001b[0;34m\u001b[0m\u001b[0;34m\u001b[0m\u001b[0m\n\u001b[0m\u001b[1;32m     39\u001b[0m             \u001b[0moptimizer\u001b[0m\u001b[0;34m.\u001b[0m\u001b[0mstep\u001b[0m\u001b[0;34m(\u001b[0m\u001b[0;34m)\u001b[0m\u001b[0;34m\u001b[0m\u001b[0;34m\u001b[0m\u001b[0m\n\u001b[1;32m     40\u001b[0m             \u001b[0mtotal_loss\u001b[0m \u001b[0;34m+=\u001b[0m \u001b[0mloss\u001b[0m\u001b[0;34m.\u001b[0m\u001b[0mitem\u001b[0m\u001b[0;34m(\u001b[0m\u001b[0;34m)\u001b[0m\u001b[0;34m\u001b[0m\u001b[0;34m\u001b[0m\u001b[0m\n",
            "\u001b[0;32m/usr/local/lib/python3.10/dist-packages/torch/_tensor.py\u001b[0m in \u001b[0;36mbackward\u001b[0;34m(self, gradient, retain_graph, create_graph, inputs)\u001b[0m\n\u001b[1;32m    579\u001b[0m                 \u001b[0minputs\u001b[0m\u001b[0;34m=\u001b[0m\u001b[0minputs\u001b[0m\u001b[0;34m,\u001b[0m\u001b[0;34m\u001b[0m\u001b[0;34m\u001b[0m\u001b[0m\n\u001b[1;32m    580\u001b[0m             )\n\u001b[0;32m--> 581\u001b[0;31m         torch.autograd.backward(\n\u001b[0m\u001b[1;32m    582\u001b[0m             \u001b[0mself\u001b[0m\u001b[0;34m,\u001b[0m \u001b[0mgradient\u001b[0m\u001b[0;34m,\u001b[0m \u001b[0mretain_graph\u001b[0m\u001b[0;34m,\u001b[0m \u001b[0mcreate_graph\u001b[0m\u001b[0;34m,\u001b[0m \u001b[0minputs\u001b[0m\u001b[0;34m=\u001b[0m\u001b[0minputs\u001b[0m\u001b[0;34m\u001b[0m\u001b[0;34m\u001b[0m\u001b[0m\n\u001b[1;32m    583\u001b[0m         )\n",
            "\u001b[0;32m/usr/local/lib/python3.10/dist-packages/torch/autograd/__init__.py\u001b[0m in \u001b[0;36mbackward\u001b[0;34m(tensors, grad_tensors, retain_graph, create_graph, grad_variables, inputs)\u001b[0m\n\u001b[1;32m    345\u001b[0m     \u001b[0;31m# some Python versions print out the first line of a multi-line function\u001b[0m\u001b[0;34m\u001b[0m\u001b[0;34m\u001b[0m\u001b[0m\n\u001b[1;32m    346\u001b[0m     \u001b[0;31m# calls in the traceback and some print out the last line\u001b[0m\u001b[0;34m\u001b[0m\u001b[0;34m\u001b[0m\u001b[0m\n\u001b[0;32m--> 347\u001b[0;31m     _engine_run_backward(\n\u001b[0m\u001b[1;32m    348\u001b[0m         \u001b[0mtensors\u001b[0m\u001b[0;34m,\u001b[0m\u001b[0;34m\u001b[0m\u001b[0;34m\u001b[0m\u001b[0m\n\u001b[1;32m    349\u001b[0m         \u001b[0mgrad_tensors_\u001b[0m\u001b[0;34m,\u001b[0m\u001b[0;34m\u001b[0m\u001b[0;34m\u001b[0m\u001b[0m\n",
            "\u001b[0;32m/usr/local/lib/python3.10/dist-packages/torch/autograd/graph.py\u001b[0m in \u001b[0;36m_engine_run_backward\u001b[0;34m(t_outputs, *args, **kwargs)\u001b[0m\n\u001b[1;32m    823\u001b[0m         \u001b[0munregister_hooks\u001b[0m \u001b[0;34m=\u001b[0m \u001b[0m_register_logging_hooks_on_whole_graph\u001b[0m\u001b[0;34m(\u001b[0m\u001b[0mt_outputs\u001b[0m\u001b[0;34m)\u001b[0m\u001b[0;34m\u001b[0m\u001b[0;34m\u001b[0m\u001b[0m\n\u001b[1;32m    824\u001b[0m     \u001b[0;32mtry\u001b[0m\u001b[0;34m:\u001b[0m\u001b[0;34m\u001b[0m\u001b[0;34m\u001b[0m\u001b[0m\n\u001b[0;32m--> 825\u001b[0;31m         return Variable._execution_engine.run_backward(  # Calls into the C++ engine to run the backward pass\n\u001b[0m\u001b[1;32m    826\u001b[0m             \u001b[0mt_outputs\u001b[0m\u001b[0;34m,\u001b[0m \u001b[0;34m*\u001b[0m\u001b[0margs\u001b[0m\u001b[0;34m,\u001b[0m \u001b[0;34m**\u001b[0m\u001b[0mkwargs\u001b[0m\u001b[0;34m\u001b[0m\u001b[0;34m\u001b[0m\u001b[0m\n\u001b[1;32m    827\u001b[0m         )  # Calls into the C++ engine to run the backward pass\n",
            "\u001b[0;31mKeyboardInterrupt\u001b[0m: "
          ]
        }
      ]
    },
    {
      "cell_type": "code",
      "source": [
        "def generate_summary(model, input_text, word2idx, idx2word, max_length=50):\n",
        "    # Preprocess the input text and convert to tensor\n",
        "    input_tokens = tokenize(input_text, add_ovo=False, max_length=max_length)  # Use the tokenize function\n",
        "    input_indices = [word2idx.get(word, word2idx['<UNK>']) for word in input_tokens]\n",
        "    input_tensor = torch.tensor(input_indices).unsqueeze(0)\n",
        "    if torch.cuda.is_available():\n",
        "      input_tensor = input_tensor.cuda()  # Move to GPU\n",
        "\n",
        "    # Generate embedding for the input\n",
        "    with torch.no_grad():\n",
        "        start_token_tensor = torch.tensor([word2idx['<START>']], dtype=torch.long)  # Move to GPU\n",
        "        if torch.cuda.is_available():\n",
        "          start_token_tensor = start_token_tensor.cuda()\n",
        "        output = model.predict(input_tensor, start_token_tensor)\n",
        "\n",
        "    # Convert output indices to words and stop at <END>\n",
        "    generated_summary = []\n",
        "    output_indices = torch.argmax(output, dim=-1).cpu().numpy()  # Move to CPU for easy conversion\n",
        "\n",
        "    for idx in output_indices[0]:\n",
        "        word = idx2word.get(idx, '<UNK>')\n",
        "        if word == '<END>' or len(generated_summary) >= max_length:\n",
        "            break\n",
        "        # Ignore <START> token, do not append it\n",
        "        if word != '<START>':\n",
        "            generated_summary.append(word)\n",
        "\n",
        "    # Post-process the output by replacing <SEP> with full stops\n",
        "    generated_summary = [word.replace('<SEP>', '.') for word in generated_summary]\n",
        "\n",
        "    return generated_summary\n"
      ],
      "metadata": {
        "id": "TtHGY7DoNDQ_"
      },
      "execution_count": null,
      "outputs": []
    },
    {
      "cell_type": "code",
      "source": [
        "input_text = df['article'][0]\n",
        "true_summary = df['highlights'][0]\n",
        "print(f\"Input text: {input_text}\")\n",
        "\n",
        "# Convert tokens back to words\n",
        "generated_summary = generate_summary(model, input_text, word2idx, idx2word, max_length=50)\n",
        "print(f\"True Summary: {true_summary}\")\n",
        "print(\"Generated Summary: \", \" \".join(generated_summary))"
      ],
      "metadata": {
        "colab": {
          "base_uri": "https://localhost:8080/"
        },
        "id": "tHh3yRAwkC4f",
        "outputId": "0da657fc-50ab-4c87-e01a-cb153bbfd786"
      },
      "execution_count": null,
      "outputs": [
        {
          "output_type": "stream",
          "name": "stdout",
          "text": [
            "Input text: space exploration has led to advancements in satellite technology enabling better communication weather forecasting and global navigation systems. nasa and spacex continue to innovate in this field focusing on missions to the moon and mars.\n",
            "True Summary: space exploration drives advancements in communication and navigation.\n",
            "Generated Summary:  space exploration drives advancements in communication and navigation .\n"
          ]
        }
      ]
    },
    {
      "cell_type": "code",
      "source": [
        "input_text = df['article'][10]\n",
        "true_summary = df['highlights'][10]\n",
        "print(f\"Input text: {input_text}\")\n",
        "\n",
        "# Convert tokens back to words\n",
        "generated_summary = generate_summary(model, input_text, word2idx, idx2word, max_length=50)\n",
        "print(f\"True Summary: {true_summary}\")\n",
        "print(\"Generated Summary: \", \" \".join(generated_summary))"
      ],
      "metadata": {
        "id": "FRSK9mzygXN2",
        "colab": {
          "base_uri": "https://localhost:8080/"
        },
        "outputId": "7cf542a0-b0c6-414f-ab3b-ed522f2cd958"
      },
      "execution_count": null,
      "outputs": [
        {
          "output_type": "stream",
          "name": "stdout",
          "text": [
            "Input text: cryptography ensures secure communication in the digital age. techniques like encryption are vital for protecting sensitive information such as online banking and personal data.\n",
            "True Summary: cryptography secures communication and protects sensitive information.\n",
            "Generated Summary:  cryptography secures communication and protects sensitive information .\n"
          ]
        }
      ]
    },
    {
      "cell_type": "code",
      "source": [],
      "metadata": {
        "id": "LrTvpKWF5QE6"
      },
      "execution_count": null,
      "outputs": []
    }
  ]
}